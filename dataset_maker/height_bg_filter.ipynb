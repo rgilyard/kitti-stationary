{
 "cells": [
  {
   "cell_type": "markdown",
   "id": "b6e7e623-3db1-47b0-a2a9-dd076b04be2b",
   "metadata": {},
   "source": [
    "# Filter each stationary frame"
   ]
  },
  {
   "cell_type": "code",
   "execution_count": 88,
   "id": "7a689bb4-b129-40f6-a07a-2c94e6604124",
   "metadata": {},
   "outputs": [],
   "source": [
    "import matplotlib.pyplot as plt\n",
    "import pandas as pd\n",
    "import numpy as np\n",
    "import json\n",
    "import os\n",
    "import itertools\n",
    "from mpl_toolkits.mplot3d import Axes3D\n",
    "from pathlib import Path"
   ]
  },
  {
   "cell_type": "markdown",
   "id": "a0bd788e-d8f5-4621-84a5-764b6f1f59ff",
   "metadata": {},
   "source": [
    "## Constants and such"
   ]
  },
  {
   "cell_type": "code",
   "execution_count": 90,
   "id": "f77dba0c-506d-41f7-94e0-1f78bd80b165",
   "metadata": {},
   "outputs": [],
   "source": [
    "# Set background map resolutions\n",
    "azimuth_resolution = 0.1\n",
    "elevation_resolution = 0.25"
   ]
  },
  {
   "cell_type": "code",
   "execution_count": 91,
   "id": "73db7eb6-b3f9-4a18-b7bd-a7d6d7515511",
   "metadata": {},
   "outputs": [],
   "source": [
    "DATA_DIR_ROOT = '../stationary_data'"
   ]
  },
  {
   "cell_type": "markdown",
   "id": "af74dafa-7133-428b-8799-dbe0d7d67127",
   "metadata": {},
   "source": [
    "## First, functions for making background map"
   ]
  },
  {
   "cell_type": "code",
   "execution_count": 93,
   "id": "2b0b2769-48b9-4b86-a127-a6ac5089a830",
   "metadata": {},
   "outputs": [],
   "source": [
    "# Create mappings for azimuth and height using integers\n",
    "def create_mappings(azimuth_step=azimuth_resolution, elevation_step=elevation_resolution):\n",
    "    # Create ranges and multiply by 10 to convert to integers\n",
    "    azimuth_range = np.arange(-180, 180 + azimuth_step, azimuth_step) * 10\n",
    "    elevation_range = np.arange(-30, 10 + elevation_step, elevation_step) * 10\n",
    "    \n",
    "    # Convert to integers and create dictionaries to map azimuth/height to index\n",
    "    azimuth_map = {int(az): idx for idx, az in enumerate(azimuth_range)}\n",
    "    elevation_map = {int(ht): idx for idx, ht in enumerate(elevation_range)}\n",
    "    return azimuth_map, elevation_map"
   ]
  },
  {
   "cell_type": "code",
   "execution_count": 94,
   "id": "39f724e2-15bf-4f35-b560-9d0d15606462",
   "metadata": {},
   "outputs": [],
   "source": [
    "# Create the grid DataFrames\n",
    "def create_grid_dataframes():\n",
    "    azimuth_map, elevation_map = create_mappings()\n",
    "    grid_shape = (len(elevation_map), len(azimuth_map))\n",
    "    df_heights = pd.DataFrame({key: [[] for _ in range(len(elevation_map))] \\\n",
    "                                 for key in azimuth_map.keys()}, index=elevation_map.keys())\n",
    "    return df_heights, azimuth_map, elevation_map"
   ]
  },
  {
   "cell_type": "code",
   "execution_count": 95,
   "id": "87791ed8-709c-43ec-808f-a7f735d6cf9b",
   "metadata": {},
   "outputs": [],
   "source": [
    "# Process file into grid\n",
    "def process_files_to_grid(data_dir):\n",
    "    # Create empty grid\n",
    "    df_heights, azimuth_map, elevation_map = create_grid_dataframes()\n",
    "\n",
    "    lidar_dir = Path(data_dir, 'velodyne_points')\n",
    "    # For each file in the directory\n",
    "    for file_path in lidar_dir.iterdir():\n",
    "    # for file_path in itertools.islice(lidar_dir.iterdir(), 3):\n",
    "        print('.', end='')\n",
    "        data = np.fromfile(file_path, dtype=np.float32).reshape(-1, 4)\n",
    "        for x, y, z, intensity in data:\n",
    "            # Convert to azimuth, height, distance format\n",
    "            # distance = np.sqrt(x**2 + y**2 + z**2)\n",
    "            azimuth = np.degrees(np.arctan2(y, x))\n",
    "            elevation = np.degrees(np.arctan2(z, np.sqrt(x**2 + y**2)))\n",
    "            # Convert and scale\n",
    "            azimuth_idx = (np.floor((azimuth + 180) / azimuth_resolution) * azimuth_resolution * 10 - 1800).astype(int)\n",
    "            elevation_idx = (np.floor((elevation + 30) / elevation_resolution) * elevation_resolution * 10 - 300).astype(int)\n",
    "            # Update DataFrames directly using indices\n",
    "            if azimuth_idx in azimuth_map and elevation_idx in elevation_map:\n",
    "                df_heights.at[elevation_idx, azimuth_idx].append(z)\n",
    "    return df_heights"
   ]
  },
  {
   "cell_type": "code",
   "execution_count": 96,
   "id": "e27c9a29-1f32-447a-b08f-0dcf82274fcf",
   "metadata": {},
   "outputs": [],
   "source": [
    "def create_background_lookup_table(dir):\n",
    "    # Get the distances of the background map from the lidar files\n",
    "    df_heights = process_files_to_grid(dir)\n",
    "\n",
    "    # Create a new DataFrame with the same index and columns as df_distances\n",
    "    lookup_table = pd.DataFrame(index=df_heights.index, columns=df_heights.columns)\n",
    "    # Iterate through each cell in df_distances\n",
    "    for (elevation, azimuth), z in df_heights.stack().items():\n",
    "        if z:  # If the list is not empty\n",
    "            if np.average(z) < 0:\n",
    "                value = np.percentile(z, 25)\n",
    "            else:\n",
    "                value = np.percentile(z, 75)\n",
    "        else:\n",
    "            value = np.nan  # If the list is empty, set the cell to NaN\n",
    "\n",
    "        # Set the value in the new DataFrame\n",
    "        lookup_table.at[elevation, azimuth] = value\n",
    "\n",
    "    filled_lookup_table = lookup_table.ffill(axis=0).bfill(axis=0)  # Fill along rows\n",
    "    filled_lookup_table = filled_lookup_table.ffill(axis=1).bfill(axis=1)\n",
    "\n",
    "    return filled_lookup_table"
   ]
  },
  {
   "cell_type": "markdown",
   "id": "6231c973-5d7e-476e-9fc5-44c09d4ef27c",
   "metadata": {},
   "source": [
    "## Filtering and saving functions"
   ]
  },
  {
   "cell_type": "code",
   "execution_count": 98,
   "id": "af930e13-e6a1-43ce-86e0-666e9f94801f",
   "metadata": {},
   "outputs": [],
   "source": [
    "def convert_to_dataframe(bin_path):\n",
    "    pre_filtered_data = np.fromfile(bin_path, dtype=np.float32).reshape(-1, 4) \n",
    "    columns = ['x', 'y', 'z', 'intensity']\n",
    "    df = pd.DataFrame(pre_filtered_data, columns=columns)\n",
    "    return df"
   ]
  },
  {
   "cell_type": "code",
   "execution_count": 99,
   "id": "b95c4d38-7e51-4d13-8b98-8c683e7ba7c2",
   "metadata": {},
   "outputs": [],
   "source": [
    "def add_lookup_coords_to_xyz(points_df):\n",
    "    # Calculate the distance, azimuth, and height using vectorized operations\n",
    "    x, y, z, intensity = points_df['x'], points_df['y'], points_df['z'], points_df['intensity']\n",
    "    azimuth = np.degrees(np.arctan2(y, x))\n",
    "    elevation = np.degrees(np.arctan2(z, np.sqrt(x**2 + y**2)))\n",
    "    \n",
    "    # Convert and scale\n",
    "    azimuth_idx = (np.floor((azimuth + 180) / azimuth_resolution) * azimuth_resolution * 10 - 1800).astype(int)\n",
    "    elevation_idx = (np.floor((elevation + 30) / elevation_resolution) * elevation_resolution * 10 - 300).astype(int)\n",
    "    \n",
    "    # Add new columns to dataframe\n",
    "    points_df['azimuth_idx'] = azimuth_idx\n",
    "    points_df['elevation_idx'] = elevation_idx\n",
    "    points_df['delta_z'] = elevation / 55\n",
    "    \n",
    "    return points_df"
   ]
  },
  {
   "cell_type": "code",
   "execution_count": 100,
   "id": "488d3c76-e60d-4011-9b58-ce05ec7aded6",
   "metadata": {
    "jupyter": {
     "source_hidden": true
    }
   },
   "outputs": [],
   "source": [
    "# def filter_points(input_file, lookup_table):\n",
    "#     # Get dataframe from file\n",
    "#     pre_filtered_points = convert_to_dataframe(input_file)\n",
    "\n",
    "#     # Add lookup table coordinates\n",
    "#     pre_filtered_grid_lookup = add_lookup_coords_to_xyz(pre_filtered_points)\n",
    "    \n",
    "#     # Initialize a list to store rows that meet the criteria\n",
    "#     filtered_data = []\n",
    "\n",
    "#     # Iterate through each row in the input DataFrame\n",
    "#     # for idx, row in df_input.iloc[:10].iterrows():\n",
    "#     for idx, row in pre_filtered_grid_lookup.iterrows():\n",
    "#         azimuth_idx = int(row['azimuth_idx'])\n",
    "#         height_idx = int(row['height_idx'])\n",
    "        \n",
    "#         # Check if the indices exist in the lookup table and the value is not NaN\n",
    "#         if azimuth_idx in lookup_table.columns and height_idx in lookup_table.index:\n",
    "#             # print('.', end='')\n",
    "#             lookup_value = lookup_table.at[height_idx, azimuth_idx]\n",
    "            \n",
    "#             if not pd.isna(lookup_value) and row['distance'] < lookup_value:\n",
    "#                 # If criteria are met, add the row's x, y, z, and intensity to the filtered_data list\n",
    "#                 filtered_data.append({\n",
    "#                     'x': row['x'],\n",
    "#                     'y': row['y'],\n",
    "#                     'z': row['z'],\n",
    "#                     'intensity': row['intensity']\n",
    "#                 })\n",
    "\n",
    "#     # Create a DataFrame from the filtered data\n",
    "#     filtered_df = pd.DataFrame(filtered_data)\n",
    "#     return filtered_df"
   ]
  },
  {
   "cell_type": "code",
   "execution_count": 101,
   "id": "e3cba263-acc4-4d32-8320-21ddeb0e7a74",
   "metadata": {},
   "outputs": [],
   "source": [
    "def filter_points(frame_path, lookup_table):\n",
    "    pre_filtered_points = convert_to_dataframe(frame_path)\n",
    "    pre_filtered_grid_lookup = add_lookup_coords_to_xyz(pre_filtered_points)\n",
    "    \n",
    "    # Convert 'azimuth_idx' and 'height_idx' to integers\n",
    "    pre_filtered_grid_lookup['azimuth_idx'] = pre_filtered_grid_lookup['azimuth_idx'].astype(int)\n",
    "    pre_filtered_grid_lookup['elevation_idx'] = pre_filtered_grid_lookup['elevation_idx'].astype(int)\n",
    "\n",
    "    # Set index to ['height_idx', 'azimuth_idx'] for alignment with lookup_table\n",
    "    pre_filtered_grid_lookup.set_index(['elevation_idx', 'azimuth_idx'], inplace=True)\n",
    "    \n",
    "    # Flatten the lookup_table into a series with MultiIndex from its row and column indices\n",
    "    lookup_series = lookup_table.stack()\n",
    "\n",
    "    # Reindex the lookup values to align with the pre_filtered_grid_lookup index\n",
    "    lookup_values = lookup_series.reindex(pre_filtered_grid_lookup.index)\n",
    "\n",
    "    # Compute effective heights and absolute comparison within the DataFrame\n",
    "    pre_filtered_grid_lookup['effective_height'] = abs(pre_filtered_grid_lookup['z'] + pre_filtered_grid_lookup['delta_z'])\n",
    "    pre_filtered_grid_lookup['bg_height'] = lookup_values\n",
    "\n",
    "    # Filter based on condition: check where effective height is less than the background height\n",
    "    filtered_df = pre_filtered_grid_lookup[pre_filtered_grid_lookup['effective_height'] < abs(pre_filtered_grid_lookup['bg_height'])]\n",
    "\n",
    "    # Reset index if you want 'height_idx' and 'azimuth_idx' as columns\n",
    "    filtered_df = filtered_df.reset_index()\n",
    "\n",
    "    return filtered_df"
   ]
  },
  {
   "cell_type": "code",
   "execution_count": 102,
   "id": "e77a6403-4e34-45d3-8ae4-f3ca96710410",
   "metadata": {},
   "outputs": [],
   "source": [
    "def save_as_binary(df, bin_path):\n",
    "    # Ensure the DataFrame is in the correct order and data type\n",
    "    data = df[['x', 'y', 'z', 'intensity']].astype(np.float32).values\n",
    "    \n",
    "    # Write the data to a binary file\n",
    "    data.tofile(bin_path)"
   ]
  },
  {
   "cell_type": "code",
   "execution_count": 103,
   "id": "9f742807-8599-44f8-a52e-7b5b14f12cd3",
   "metadata": {},
   "outputs": [],
   "source": [
    "def filter_frames(dir, background_lookup_table):\n",
    "    # Create a new folder for the filtered frames in the directory\n",
    "    new_save_location = Path(dir, 'filtered_points')\n",
    "    new_save_location.mkdir(exist_ok=True)\n",
    "    \n",
    "    lidar_dir = Path(dir, 'velodyne_points')\n",
    "    \n",
    "    # Get just the file names\n",
    "    files = [f for f in os.listdir(lidar_dir) if f.endswith('.bin')]\n",
    "    # For each file\n",
    "    # for filename in files[:3]:\n",
    "    for filename in files:\n",
    "        # Append file name to location\n",
    "        print(filename, end=', ')\n",
    "        from_file = Path(lidar_dir, filename)\n",
    "\n",
    "        # Filter file\n",
    "        filtered_df = filter_points(from_file, background_lookup_table)\n",
    "\n",
    "        # APPEND FILE NAME TO NEW LOCATION\n",
    "        to_file = Path(new_save_location, filename)\n",
    "\n",
    "        # CONVERT BACK TO BINARY and save\n",
    "        save_as_binary(filtered_df, to_file)\n",
    "    print()"
   ]
  },
  {
   "cell_type": "code",
   "execution_count": 104,
   "id": "639cb573-5c95-4d31-aa22-862a1b2a4077",
   "metadata": {},
   "outputs": [
    {
     "name": "stdout",
     "output_type": "stream",
     "text": [
      "..\\stationary_data\\2011_09_26_drive_0017_sync_0_to_113\n",
      ".................................................................................................................."
     ]
    },
    {
     "name": "stderr",
     "output_type": "stream",
     "text": [
      "C:\\Users\\gilya\\AppData\\Local\\Temp\\ipykernel_13988\\145795645.py:20: FutureWarning: Downcasting object dtype arrays on .fillna, .ffill, .bfill is deprecated and will change in a future version. Call result.infer_objects(copy=False) instead. To opt-in to the future behavior, set `pd.set_option('future.no_silent_downcasting', True)`\n",
      "  filled_lookup_table = lookup_table.ffill(axis=0).bfill(axis=0)  # Fill along rows\n"
     ]
    },
    {
     "name": "stdout",
     "output_type": "stream",
     "text": [
      "0000000000.bin, 0000000001.bin, 0000000002.bin, 0000000003.bin, 0000000004.bin, 0000000005.bin, 0000000006.bin, 0000000007.bin, 0000000008.bin, 0000000009.bin, 0000000010.bin, 0000000011.bin, 0000000012.bin, 0000000013.bin, 0000000014.bin, 0000000015.bin, 0000000016.bin, 0000000017.bin, 0000000018.bin, 0000000019.bin, 0000000020.bin, 0000000021.bin, 0000000022.bin, 0000000023.bin, 0000000024.bin, 0000000025.bin, 0000000026.bin, 0000000027.bin, 0000000028.bin, 0000000029.bin, 0000000030.bin, 0000000031.bin, 0000000032.bin, 0000000033.bin, 0000000034.bin, 0000000035.bin, 0000000036.bin, 0000000037.bin, 0000000038.bin, 0000000039.bin, 0000000040.bin, 0000000041.bin, 0000000042.bin, 0000000043.bin, 0000000044.bin, 0000000045.bin, 0000000046.bin, 0000000047.bin, 0000000048.bin, 0000000049.bin, 0000000050.bin, 0000000051.bin, 0000000052.bin, 0000000053.bin, 0000000054.bin, 0000000055.bin, 0000000056.bin, 0000000057.bin, 0000000058.bin, 0000000059.bin, 0000000060.bin, 0000000061.bin, 0000000062.bin, 0000000063.bin, 0000000064.bin, 0000000065.bin, 0000000066.bin, 0000000067.bin, 0000000068.bin, 0000000069.bin, 0000000070.bin, 0000000071.bin, 0000000072.bin, 0000000073.bin, 0000000074.bin, 0000000075.bin, 0000000076.bin, 0000000077.bin, 0000000078.bin, 0000000079.bin, 0000000080.bin, 0000000081.bin, 0000000082.bin, 0000000083.bin, 0000000084.bin, 0000000085.bin, 0000000086.bin, 0000000087.bin, 0000000088.bin, 0000000089.bin, 0000000090.bin, 0000000091.bin, 0000000092.bin, 0000000093.bin, 0000000094.bin, 0000000095.bin, 0000000096.bin, 0000000097.bin, 0000000098.bin, 0000000099.bin, 0000000100.bin, 0000000101.bin, 0000000102.bin, 0000000103.bin, 0000000104.bin, 0000000105.bin, 0000000106.bin, 0000000107.bin, 0000000108.bin, 0000000109.bin, 0000000110.bin, 0000000111.bin, 0000000112.bin, 0000000113.bin, \n",
      "..\\stationary_data\\2011_09_26_drive_0018_sync_0_to_178\n",
      "..................................................................................................................................................................................."
     ]
    },
    {
     "name": "stderr",
     "output_type": "stream",
     "text": [
      "C:\\Users\\gilya\\AppData\\Local\\Temp\\ipykernel_13988\\145795645.py:20: FutureWarning: Downcasting object dtype arrays on .fillna, .ffill, .bfill is deprecated and will change in a future version. Call result.infer_objects(copy=False) instead. To opt-in to the future behavior, set `pd.set_option('future.no_silent_downcasting', True)`\n",
      "  filled_lookup_table = lookup_table.ffill(axis=0).bfill(axis=0)  # Fill along rows\n"
     ]
    },
    {
     "name": "stdout",
     "output_type": "stream",
     "text": [
      "0000000000.bin, 0000000001.bin, 0000000002.bin, 0000000003.bin, 0000000004.bin, 0000000005.bin, 0000000006.bin, 0000000007.bin, 0000000008.bin, 0000000009.bin, 0000000010.bin, 0000000011.bin, 0000000012.bin, 0000000013.bin, 0000000014.bin, 0000000015.bin, 0000000016.bin, 0000000017.bin, 0000000018.bin, 0000000019.bin, 0000000020.bin, 0000000021.bin, 0000000022.bin, 0000000023.bin, 0000000024.bin, 0000000025.bin, 0000000026.bin, 0000000027.bin, 0000000028.bin, 0000000029.bin, 0000000030.bin, 0000000031.bin, 0000000032.bin, 0000000033.bin, 0000000034.bin, 0000000035.bin, 0000000036.bin, 0000000037.bin, 0000000038.bin, 0000000039.bin, 0000000040.bin, 0000000041.bin, 0000000042.bin, 0000000043.bin, 0000000044.bin, 0000000045.bin, 0000000046.bin, 0000000047.bin, 0000000048.bin, 0000000049.bin, 0000000050.bin, 0000000051.bin, 0000000052.bin, 0000000053.bin, 0000000054.bin, 0000000055.bin, 0000000056.bin, 0000000057.bin, 0000000058.bin, 0000000059.bin, 0000000060.bin, 0000000061.bin, 0000000062.bin, 0000000063.bin, 0000000064.bin, 0000000065.bin, 0000000066.bin, 0000000067.bin, 0000000068.bin, 0000000069.bin, 0000000070.bin, 0000000071.bin, 0000000072.bin, 0000000073.bin, 0000000074.bin, 0000000075.bin, 0000000076.bin, 0000000077.bin, 0000000078.bin, 0000000079.bin, 0000000080.bin, 0000000081.bin, 0000000082.bin, 0000000083.bin, 0000000084.bin, 0000000085.bin, 0000000086.bin, 0000000087.bin, 0000000088.bin, 0000000089.bin, 0000000090.bin, 0000000091.bin, 0000000092.bin, 0000000093.bin, 0000000094.bin, 0000000095.bin, 0000000096.bin, 0000000097.bin, 0000000098.bin, 0000000099.bin, 0000000100.bin, 0000000101.bin, 0000000102.bin, 0000000103.bin, 0000000104.bin, 0000000105.bin, 0000000106.bin, 0000000107.bin, 0000000108.bin, 0000000109.bin, 0000000110.bin, 0000000111.bin, 0000000112.bin, 0000000113.bin, 0000000114.bin, 0000000115.bin, 0000000116.bin, 0000000117.bin, 0000000118.bin, 0000000119.bin, 0000000120.bin, 0000000121.bin, 0000000122.bin, 0000000123.bin, 0000000124.bin, 0000000125.bin, 0000000126.bin, 0000000127.bin, 0000000128.bin, 0000000129.bin, 0000000130.bin, 0000000131.bin, 0000000132.bin, 0000000133.bin, 0000000134.bin, 0000000135.bin, 0000000136.bin, 0000000137.bin, 0000000138.bin, 0000000139.bin, 0000000140.bin, 0000000141.bin, 0000000142.bin, 0000000143.bin, 0000000144.bin, 0000000145.bin, 0000000146.bin, 0000000147.bin, 0000000148.bin, 0000000149.bin, 0000000150.bin, 0000000151.bin, 0000000152.bin, 0000000153.bin, 0000000154.bin, 0000000155.bin, 0000000156.bin, 0000000157.bin, 0000000158.bin, 0000000159.bin, 0000000160.bin, 0000000161.bin, 0000000162.bin, 0000000163.bin, 0000000164.bin, 0000000165.bin, 0000000166.bin, 0000000167.bin, 0000000168.bin, 0000000169.bin, 0000000170.bin, 0000000171.bin, 0000000172.bin, 0000000173.bin, 0000000174.bin, 0000000175.bin, 0000000176.bin, 0000000177.bin, 0000000178.bin, \n",
      "..\\stationary_data\\2011_09_26_drive_0051_sync_210_to_210\n",
      "."
     ]
    },
    {
     "name": "stderr",
     "output_type": "stream",
     "text": [
      "C:\\Users\\gilya\\AppData\\Local\\Temp\\ipykernel_13988\\145795645.py:20: FutureWarning: Downcasting object dtype arrays on .fillna, .ffill, .bfill is deprecated and will change in a future version. Call result.infer_objects(copy=False) instead. To opt-in to the future behavior, set `pd.set_option('future.no_silent_downcasting', True)`\n",
      "  filled_lookup_table = lookup_table.ffill(axis=0).bfill(axis=0)  # Fill along rows\n"
     ]
    },
    {
     "name": "stdout",
     "output_type": "stream",
     "text": [
      "0000000000.bin, \n",
      "..\\stationary_data\\2011_09_26_drive_0051_sync_224_to_360\n",
      "........................................................................................................................................."
     ]
    },
    {
     "name": "stderr",
     "output_type": "stream",
     "text": [
      "C:\\Users\\gilya\\AppData\\Local\\Temp\\ipykernel_13988\\145795645.py:20: FutureWarning: Downcasting object dtype arrays on .fillna, .ffill, .bfill is deprecated and will change in a future version. Call result.infer_objects(copy=False) instead. To opt-in to the future behavior, set `pd.set_option('future.no_silent_downcasting', True)`\n",
      "  filled_lookup_table = lookup_table.ffill(axis=0).bfill(axis=0)  # Fill along rows\n"
     ]
    },
    {
     "name": "stdout",
     "output_type": "stream",
     "text": [
      "0000000000.bin, 0000000001.bin, 0000000002.bin, 0000000003.bin, 0000000004.bin, 0000000005.bin, 0000000006.bin, 0000000007.bin, 0000000008.bin, 0000000009.bin, 0000000010.bin, 0000000011.bin, 0000000012.bin, 0000000013.bin, 0000000014.bin, 0000000015.bin, 0000000016.bin, 0000000017.bin, 0000000018.bin, 0000000019.bin, 0000000020.bin, 0000000021.bin, 0000000022.bin, 0000000023.bin, 0000000024.bin, 0000000025.bin, 0000000026.bin, 0000000027.bin, 0000000028.bin, 0000000029.bin, 0000000030.bin, 0000000031.bin, 0000000032.bin, 0000000033.bin, 0000000034.bin, 0000000035.bin, 0000000036.bin, 0000000037.bin, 0000000038.bin, 0000000039.bin, 0000000040.bin, 0000000041.bin, 0000000042.bin, 0000000043.bin, 0000000044.bin, 0000000045.bin, 0000000046.bin, 0000000047.bin, 0000000048.bin, 0000000049.bin, 0000000050.bin, 0000000051.bin, 0000000052.bin, 0000000053.bin, 0000000054.bin, 0000000055.bin, 0000000056.bin, 0000000057.bin, 0000000058.bin, 0000000059.bin, 0000000060.bin, 0000000061.bin, 0000000062.bin, 0000000063.bin, 0000000064.bin, 0000000065.bin, 0000000066.bin, 0000000067.bin, 0000000068.bin, 0000000069.bin, 0000000070.bin, 0000000071.bin, 0000000072.bin, 0000000073.bin, 0000000074.bin, 0000000075.bin, 0000000076.bin, 0000000077.bin, 0000000078.bin, 0000000079.bin, 0000000080.bin, 0000000081.bin, 0000000082.bin, 0000000083.bin, 0000000084.bin, 0000000085.bin, 0000000086.bin, 0000000087.bin, 0000000088.bin, 0000000089.bin, 0000000090.bin, 0000000091.bin, 0000000092.bin, 0000000093.bin, 0000000094.bin, 0000000095.bin, 0000000096.bin, 0000000097.bin, 0000000098.bin, 0000000099.bin, 0000000100.bin, 0000000101.bin, 0000000102.bin, 0000000103.bin, 0000000104.bin, 0000000105.bin, 0000000106.bin, 0000000107.bin, 0000000108.bin, 0000000109.bin, 0000000110.bin, 0000000111.bin, 0000000112.bin, 0000000113.bin, 0000000114.bin, 0000000115.bin, 0000000116.bin, 0000000117.bin, 0000000118.bin, 0000000119.bin, 0000000120.bin, 0000000121.bin, 0000000122.bin, 0000000123.bin, 0000000124.bin, 0000000125.bin, 0000000126.bin, 0000000127.bin, 0000000128.bin, 0000000129.bin, 0000000130.bin, 0000000131.bin, 0000000132.bin, 0000000133.bin, 0000000134.bin, 0000000135.bin, 0000000136.bin, \n",
      "..\\stationary_data\\2011_09_26_drive_0060_sync_0_to_77\n",
      ".............................................................................."
     ]
    },
    {
     "name": "stderr",
     "output_type": "stream",
     "text": [
      "C:\\Users\\gilya\\AppData\\Local\\Temp\\ipykernel_13988\\145795645.py:20: FutureWarning: Downcasting object dtype arrays on .fillna, .ffill, .bfill is deprecated and will change in a future version. Call result.infer_objects(copy=False) instead. To opt-in to the future behavior, set `pd.set_option('future.no_silent_downcasting', True)`\n",
      "  filled_lookup_table = lookup_table.ffill(axis=0).bfill(axis=0)  # Fill along rows\n"
     ]
    },
    {
     "name": "stdout",
     "output_type": "stream",
     "text": [
      "0000000000.bin, 0000000001.bin, 0000000002.bin, 0000000003.bin, 0000000004.bin, 0000000005.bin, 0000000006.bin, 0000000007.bin, 0000000008.bin, 0000000009.bin, 0000000010.bin, 0000000011.bin, 0000000012.bin, 0000000013.bin, 0000000014.bin, 0000000015.bin, 0000000016.bin, 0000000017.bin, 0000000018.bin, 0000000019.bin, 0000000020.bin, 0000000021.bin, 0000000022.bin, 0000000023.bin, 0000000024.bin, 0000000025.bin, 0000000026.bin, 0000000027.bin, 0000000028.bin, 0000000029.bin, 0000000030.bin, 0000000031.bin, 0000000032.bin, 0000000033.bin, 0000000034.bin, 0000000035.bin, 0000000036.bin, 0000000037.bin, 0000000038.bin, 0000000039.bin, 0000000040.bin, 0000000041.bin, 0000000042.bin, 0000000043.bin, 0000000044.bin, 0000000045.bin, 0000000046.bin, 0000000047.bin, 0000000048.bin, 0000000049.bin, 0000000050.bin, 0000000051.bin, 0000000052.bin, 0000000053.bin, 0000000054.bin, 0000000055.bin, 0000000056.bin, 0000000057.bin, 0000000058.bin, 0000000059.bin, 0000000060.bin, 0000000061.bin, 0000000062.bin, 0000000063.bin, 0000000064.bin, 0000000065.bin, 0000000066.bin, 0000000067.bin, 0000000068.bin, 0000000069.bin, 0000000070.bin, 0000000071.bin, 0000000072.bin, 0000000073.bin, 0000000074.bin, 0000000075.bin, 0000000076.bin, 0000000077.bin, \n",
      "..\\stationary_data\\2011_09_26_drive_0009_sync_404_to_404\n",
      "."
     ]
    },
    {
     "name": "stderr",
     "output_type": "stream",
     "text": [
      "C:\\Users\\gilya\\AppData\\Local\\Temp\\ipykernel_13988\\145795645.py:20: FutureWarning: Downcasting object dtype arrays on .fillna, .ffill, .bfill is deprecated and will change in a future version. Call result.infer_objects(copy=False) instead. To opt-in to the future behavior, set `pd.set_option('future.no_silent_downcasting', True)`\n",
      "  filled_lookup_table = lookup_table.ffill(axis=0).bfill(axis=0)  # Fill along rows\n"
     ]
    },
    {
     "name": "stdout",
     "output_type": "stream",
     "text": [
      "0000000000.bin, \n",
      "..\\stationary_data\\2011_09_26_drive_0009_sync_422_to_446\n",
      "........................."
     ]
    },
    {
     "name": "stderr",
     "output_type": "stream",
     "text": [
      "C:\\Users\\gilya\\AppData\\Local\\Temp\\ipykernel_13988\\145795645.py:20: FutureWarning: Downcasting object dtype arrays on .fillna, .ffill, .bfill is deprecated and will change in a future version. Call result.infer_objects(copy=False) instead. To opt-in to the future behavior, set `pd.set_option('future.no_silent_downcasting', True)`\n",
      "  filled_lookup_table = lookup_table.ffill(axis=0).bfill(axis=0)  # Fill along rows\n"
     ]
    },
    {
     "name": "stdout",
     "output_type": "stream",
     "text": [
      "0000000000.bin, 0000000001.bin, 0000000002.bin, 0000000003.bin, 0000000004.bin, 0000000005.bin, 0000000006.bin, 0000000007.bin, 0000000008.bin, 0000000009.bin, 0000000010.bin, 0000000011.bin, 0000000012.bin, 0000000013.bin, 0000000014.bin, 0000000015.bin, 0000000016.bin, 0000000017.bin, 0000000018.bin, 0000000019.bin, 0000000020.bin, 0000000021.bin, 0000000022.bin, 0000000023.bin, 0000000024.bin, \n",
      "..\\stationary_data\\2011_09_26_drive_0011_sync_167_to_232\n",
      ".................................................................."
     ]
    },
    {
     "name": "stderr",
     "output_type": "stream",
     "text": [
      "C:\\Users\\gilya\\AppData\\Local\\Temp\\ipykernel_13988\\145795645.py:20: FutureWarning: Downcasting object dtype arrays on .fillna, .ffill, .bfill is deprecated and will change in a future version. Call result.infer_objects(copy=False) instead. To opt-in to the future behavior, set `pd.set_option('future.no_silent_downcasting', True)`\n",
      "  filled_lookup_table = lookup_table.ffill(axis=0).bfill(axis=0)  # Fill along rows\n"
     ]
    },
    {
     "name": "stdout",
     "output_type": "stream",
     "text": [
      "0000000000.bin, 0000000001.bin, 0000000002.bin, 0000000003.bin, 0000000004.bin, 0000000005.bin, 0000000006.bin, 0000000007.bin, 0000000008.bin, 0000000009.bin, 0000000010.bin, 0000000011.bin, 0000000012.bin, 0000000013.bin, 0000000014.bin, 0000000015.bin, 0000000016.bin, 0000000017.bin, 0000000018.bin, 0000000019.bin, 0000000020.bin, 0000000021.bin, 0000000022.bin, 0000000023.bin, 0000000024.bin, 0000000025.bin, 0000000026.bin, 0000000027.bin, 0000000028.bin, 0000000029.bin, 0000000030.bin, 0000000031.bin, 0000000032.bin, 0000000033.bin, 0000000034.bin, 0000000035.bin, 0000000036.bin, 0000000037.bin, 0000000038.bin, 0000000039.bin, 0000000040.bin, 0000000041.bin, 0000000042.bin, 0000000043.bin, 0000000044.bin, 0000000045.bin, 0000000046.bin, 0000000047.bin, 0000000048.bin, 0000000049.bin, 0000000050.bin, 0000000051.bin, 0000000052.bin, 0000000053.bin, 0000000054.bin, 0000000055.bin, 0000000056.bin, 0000000057.bin, 0000000058.bin, 0000000059.bin, 0000000060.bin, 0000000061.bin, 0000000062.bin, 0000000063.bin, 0000000064.bin, 0000000065.bin, \n",
      "..\\stationary_data\\2011_09_26_drive_0059_sync_239_to_245\n",
      "......."
     ]
    },
    {
     "name": "stderr",
     "output_type": "stream",
     "text": [
      "C:\\Users\\gilya\\AppData\\Local\\Temp\\ipykernel_13988\\145795645.py:20: FutureWarning: Downcasting object dtype arrays on .fillna, .ffill, .bfill is deprecated and will change in a future version. Call result.infer_objects(copy=False) instead. To opt-in to the future behavior, set `pd.set_option('future.no_silent_downcasting', True)`\n",
      "  filled_lookup_table = lookup_table.ffill(axis=0).bfill(axis=0)  # Fill along rows\n"
     ]
    },
    {
     "name": "stdout",
     "output_type": "stream",
     "text": [
      "0000000000.bin, 0000000001.bin, 0000000002.bin, 0000000003.bin, 0000000004.bin, 0000000005.bin, 0000000006.bin, \n",
      "..\\stationary_data\\2011_09_26_drive_0079_sync_93_to_99\n",
      "......."
     ]
    },
    {
     "name": "stderr",
     "output_type": "stream",
     "text": [
      "C:\\Users\\gilya\\AppData\\Local\\Temp\\ipykernel_13988\\145795645.py:20: FutureWarning: Downcasting object dtype arrays on .fillna, .ffill, .bfill is deprecated and will change in a future version. Call result.infer_objects(copy=False) instead. To opt-in to the future behavior, set `pd.set_option('future.no_silent_downcasting', True)`\n",
      "  filled_lookup_table = lookup_table.ffill(axis=0).bfill(axis=0)  # Fill along rows\n"
     ]
    },
    {
     "name": "stdout",
     "output_type": "stream",
     "text": [
      "0000000000.bin, 0000000001.bin, 0000000002.bin, 0000000003.bin, 0000000004.bin, 0000000005.bin, 0000000006.bin, \n",
      "..\\stationary_data\\2011_09_26_drive_0084_sync_0_to_47\n",
      "................................................"
     ]
    },
    {
     "name": "stderr",
     "output_type": "stream",
     "text": [
      "C:\\Users\\gilya\\AppData\\Local\\Temp\\ipykernel_13988\\145795645.py:20: FutureWarning: Downcasting object dtype arrays on .fillna, .ffill, .bfill is deprecated and will change in a future version. Call result.infer_objects(copy=False) instead. To opt-in to the future behavior, set `pd.set_option('future.no_silent_downcasting', True)`\n",
      "  filled_lookup_table = lookup_table.ffill(axis=0).bfill(axis=0)  # Fill along rows\n"
     ]
    },
    {
     "name": "stdout",
     "output_type": "stream",
     "text": [
      "0000000000.bin, 0000000001.bin, 0000000002.bin, 0000000003.bin, 0000000004.bin, 0000000005.bin, 0000000006.bin, 0000000007.bin, 0000000008.bin, 0000000009.bin, 0000000010.bin, 0000000011.bin, 0000000012.bin, 0000000013.bin, 0000000014.bin, 0000000015.bin, 0000000016.bin, 0000000017.bin, 0000000018.bin, 0000000019.bin, 0000000020.bin, 0000000021.bin, 0000000022.bin, 0000000023.bin, 0000000024.bin, 0000000025.bin, 0000000026.bin, 0000000027.bin, 0000000028.bin, 0000000029.bin, 0000000030.bin, 0000000031.bin, 0000000032.bin, 0000000033.bin, 0000000034.bin, 0000000035.bin, 0000000036.bin, 0000000037.bin, 0000000038.bin, 0000000039.bin, 0000000040.bin, 0000000041.bin, 0000000042.bin, 0000000043.bin, 0000000044.bin, 0000000045.bin, 0000000046.bin, 0000000047.bin, \n",
      "..\\stationary_data\\2011_09_26_drive_0086_sync_696_to_696\n",
      "."
     ]
    },
    {
     "name": "stderr",
     "output_type": "stream",
     "text": [
      "C:\\Users\\gilya\\AppData\\Local\\Temp\\ipykernel_13988\\145795645.py:20: FutureWarning: Downcasting object dtype arrays on .fillna, .ffill, .bfill is deprecated and will change in a future version. Call result.infer_objects(copy=False) instead. To opt-in to the future behavior, set `pd.set_option('future.no_silent_downcasting', True)`\n",
      "  filled_lookup_table = lookup_table.ffill(axis=0).bfill(axis=0)  # Fill along rows\n"
     ]
    },
    {
     "name": "stdout",
     "output_type": "stream",
     "text": [
      "0000000000.bin, \n",
      "..\\stationary_data\\2011_09_26_drive_0086_sync_700_to_700\n",
      "."
     ]
    },
    {
     "name": "stderr",
     "output_type": "stream",
     "text": [
      "C:\\Users\\gilya\\AppData\\Local\\Temp\\ipykernel_13988\\145795645.py:20: FutureWarning: Downcasting object dtype arrays on .fillna, .ffill, .bfill is deprecated and will change in a future version. Call result.infer_objects(copy=False) instead. To opt-in to the future behavior, set `pd.set_option('future.no_silent_downcasting', True)`\n",
      "  filled_lookup_table = lookup_table.ffill(axis=0).bfill(axis=0)  # Fill along rows\n"
     ]
    },
    {
     "name": "stdout",
     "output_type": "stream",
     "text": [
      "0000000000.bin, \n",
      "..\\stationary_data\\2011_09_26_drive_0029_sync_206_to_260\n",
      "......................................................."
     ]
    },
    {
     "name": "stderr",
     "output_type": "stream",
     "text": [
      "C:\\Users\\gilya\\AppData\\Local\\Temp\\ipykernel_13988\\145795645.py:20: FutureWarning: Downcasting object dtype arrays on .fillna, .ffill, .bfill is deprecated and will change in a future version. Call result.infer_objects(copy=False) instead. To opt-in to the future behavior, set `pd.set_option('future.no_silent_downcasting', True)`\n",
      "  filled_lookup_table = lookup_table.ffill(axis=0).bfill(axis=0)  # Fill along rows\n"
     ]
    },
    {
     "name": "stdout",
     "output_type": "stream",
     "text": [
      "0000000000.bin, 0000000001.bin, 0000000002.bin, 0000000003.bin, 0000000004.bin, 0000000005.bin, 0000000006.bin, 0000000007.bin, 0000000008.bin, 0000000009.bin, 0000000010.bin, 0000000011.bin, 0000000012.bin, 0000000013.bin, 0000000014.bin, 0000000015.bin, 0000000016.bin, 0000000017.bin, 0000000018.bin, 0000000019.bin, 0000000020.bin, 0000000021.bin, 0000000022.bin, 0000000023.bin, 0000000024.bin, 0000000025.bin, 0000000026.bin, 0000000027.bin, 0000000028.bin, 0000000029.bin, 0000000030.bin, 0000000031.bin, 0000000032.bin, 0000000033.bin, 0000000034.bin, 0000000035.bin, 0000000036.bin, 0000000037.bin, 0000000038.bin, 0000000039.bin, 0000000040.bin, 0000000041.bin, 0000000042.bin, 0000000043.bin, 0000000044.bin, 0000000045.bin, 0000000046.bin, 0000000047.bin, 0000000048.bin, 0000000049.bin, 0000000050.bin, 0000000051.bin, 0000000052.bin, 0000000053.bin, 0000000054.bin, \n"
     ]
    }
   ],
   "source": [
    "# For each folder in the stationary data directory\n",
    "p = Path(DATA_DIR_ROOT)\n",
    "\n",
    "# For each sequence (folder) in the stationary data\n",
    "for dir in p.iterdir(): \n",
    "    if dir.is_dir():\n",
    "        print(dir) \n",
    "        # Make background map\n",
    "        background_distance_lookup_table = create_background_lookup_table(dir)\n",
    "        # Filter and save each filtered frame\n",
    "        filter_frames(dir, background_distance_lookup_table)"
   ]
  }
 ],
 "metadata": {
  "kernelspec": {
   "display_name": "Python 3 (ipykernel)",
   "language": "python",
   "name": "python3"
  },
  "language_info": {
   "codemirror_mode": {
    "name": "ipython",
    "version": 3
   },
   "file_extension": ".py",
   "mimetype": "text/x-python",
   "name": "python",
   "nbconvert_exporter": "python",
   "pygments_lexer": "ipython3",
   "version": "3.11.9"
  }
 },
 "nbformat": 4,
 "nbformat_minor": 5
}

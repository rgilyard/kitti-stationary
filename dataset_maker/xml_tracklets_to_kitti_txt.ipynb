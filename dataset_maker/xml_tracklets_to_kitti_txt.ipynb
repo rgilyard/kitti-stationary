{
 "cells": [
  {
   "cell_type": "markdown",
   "id": "8db0208e-43d3-4902-82d1-2e5a1c3aea63",
   "metadata": {},
   "source": [
    "# Convert the XML tracklet files to kitti format txt labels files"
   ]
  },
  {
   "cell_type": "markdown",
   "id": "251bc1be-273e-4a77-93dc-39aa3df95fe5",
   "metadata": {},
   "source": [
    "Do for each folder in the data folder"
   ]
  },
  {
   "cell_type": "code",
   "execution_count": null,
   "id": "26dbb584-6710-4ca1-a396-7a5a2903ce58",
   "metadata": {},
   "outputs": [],
   "source": []
  },
  {
   "cell_type": "code",
   "execution_count": null,
   "id": "e995305f-e73c-43b5-abcf-ef038415f989",
   "metadata": {},
   "outputs": [],
   "source": []
  }
 ],
 "metadata": {
  "kernelspec": {
   "display_name": "Python 3 (ipykernel)",
   "language": "python",
   "name": "python3"
  },
  "language_info": {
   "codemirror_mode": {
    "name": "ipython",
    "version": 3
   },
   "file_extension": ".py",
   "mimetype": "text/x-python",
   "name": "python",
   "nbconvert_exporter": "python",
   "pygments_lexer": "ipython3",
   "version": "3.11.3"
  }
 },
 "nbformat": 4,
 "nbformat_minor": 5
}

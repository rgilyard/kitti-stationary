{
 "cells": [
  {
   "cell_type": "markdown",
   "id": "8db0208e-43d3-4902-82d1-2e5a1c3aea63",
   "metadata": {},
   "source": [
    "# Convert the XML tracklet files to kitti format txt labels files"
   ]
  },
  {
   "cell_type": "markdown",
   "id": "10676a8e-3686-42d4-81b3-9185a2687829",
   "metadata": {},
   "source": []
  },
  {
   "cell_type": "markdown",
   "id": "befaa37d-1fe9-49b3-8489-9b0a1f46f8cf",
   "metadata": {},
   "source": [
    "## Imports"
   ]
  },
  {
   "cell_type": "code",
   "execution_count": 19,
   "id": "98f9996d-ef8f-4ee0-86c3-ef180a890683",
   "metadata": {},
   "outputs": [],
   "source": [
    "import os\n",
    "from pathlib import Path\n",
    "import xml.etree.ElementTree as ET"
   ]
  },
  {
   "cell_type": "markdown",
   "id": "639645e9-7e8d-4dc4-ac2a-737e0cb30345",
   "metadata": {},
   "source": [
    "## Constants and strings"
   ]
  },
  {
   "cell_type": "code",
   "execution_count": 4,
   "id": "99bc19a8-97a0-4716-8c32-bc124db36ddc",
   "metadata": {},
   "outputs": [],
   "source": [
    "DATA_DIR_ROOT = '../data'"
   ]
  },
  {
   "cell_type": "markdown",
   "id": "fd80e448-4039-45ac-a350-9a2f353ca022",
   "metadata": {},
   "source": [
    "## Go through each data folder"
   ]
  },
  {
   "cell_type": "code",
   "execution_count": 5,
   "id": "8620b65e-76db-4ca0-8d7e-8c56444376d0",
   "metadata": {
    "tags": []
   },
   "outputs": [
    {
     "data": {
      "text/plain": [
       "['2011_09_26_drive_0017_sync',\n",
       " '2011_09_26_drive_0018_sync',\n",
       " '2011_09_26_drive_0051_sync',\n",
       " '2011_09_26_drive_0060_sync',\n",
       " '2011_09_26_drive_0001_sync',\n",
       " '2011_09_26_drive_0002_sync',\n",
       " 'calib_cam_to_cam.txt',\n",
       " 'calib_imu_to_velo.txt',\n",
       " 'calib_velo_to_cam.txt']"
      ]
     },
     "execution_count": 5,
     "metadata": {},
     "output_type": "execute_result"
    }
   ],
   "source": [
    "os.listdir(DATA_DIR_ROOT)"
   ]
  },
  {
   "cell_type": "code",
   "execution_count": null,
   "id": "6357de32-f6fa-45c0-8dfa-2ff173e4db3c",
   "metadata": {},
   "outputs": [],
   "source": [
    "# Make dictionary for each frame of sequence\n",
    "def get_initialized_frame_dict():\n",
    "    # Make a dictionary\n",
    "    label_dict = dict()\n",
    "    # Each key corresponds to a frame (get each frame)\n",
    "    # \n",
    "    \n",
    "    # Each value is a list of strings, each string is the label entry"
   ]
  },
  {
   "cell_type": "code",
   "execution_count": 41,
   "id": "a669c313-a88c-4aca-9b81-91c880d06444",
   "metadata": {},
   "outputs": [],
   "source": [
    "# Function to make labels\n",
    "def populate_frame_label_dict(xml_path, label_dict):\n",
    "    print(xml_path)\n",
    "    tree = ET.parse(xml_path)\n",
    "    root = tree.getroot()\n",
    "    \n",
    "    # get tracklets\n",
    "    print(root)\n",
    "    print(root.tag)\n",
    "    print(root.attrib)\n",
    "    tracklets = [child for child in root][0]\n",
    "    print(tracklets)\n",
    "    "
   ]
  },
  {
   "cell_type": "code",
   "execution_count": null,
   "id": "990137bf-3988-4973-9952-eb196d80f58c",
   "metadata": {},
   "outputs": [],
   "source": [
    "def get_sequence_labels(sequence_dir):    \n",
    "    for child in sequence_dir.iterdir():\n",
    "        # Get initialized dictionary\n",
    "        if str()\n",
    "        get_initialized_frame_dict()\n",
    "\n",
    "        \n",
    "        # Populate dictionary with labels from xml file\n",
    "        if str(child)[-4:] == '.xml':\n",
    "            populate_frame_label_dict(child)     \n",
    "    print()"
   ]
  },
  {
   "cell_type": "code",
   "execution_count": 43,
   "id": "124acd0d-b0a5-433e-a294-abafb8102863",
   "metadata": {},
   "outputs": [
    {
     "name": "stdout",
     "output_type": "stream",
     "text": [
      "..\\data\\2011_09_26_drive_0017_sync\\oxts\n",
      "..\\data\\2011_09_26_drive_0017_sync\\image_00\n",
      "..\\data\\2011_09_26_drive_0017_sync\\image_01\n",
      "..\\data\\2011_09_26_drive_0017_sync\\image_02\n",
      "..\\data\\2011_09_26_drive_0017_sync\\image_03\n",
      "..\\data\\2011_09_26_drive_0017_sync\\velodyne_points\n",
      "..\\data\\2011_09_26_drive_0017_sync\\tracklet_labels.xml\n",
      "..\\data\\2011_09_26_drive_0017_sync\\tracklet_labels.xml\n",
      "<Element 'boost_serialization' at 0x000001743E157AB0>\n",
      "boost_serialization\n",
      "{'signature': 'serialization::archive', 'version': '9'}\n",
      "<Element 'tracklets' at 0x000001743E154360>\n",
      "..\\data\\2011_09_26_drive_0017_sync\\labels\n",
      "\n",
      "..\\data\\2011_09_26_drive_0018_sync\\oxts\n",
      "..\\data\\2011_09_26_drive_0018_sync\\image_00\n",
      "..\\data\\2011_09_26_drive_0018_sync\\image_01\n",
      "..\\data\\2011_09_26_drive_0018_sync\\image_02\n",
      "..\\data\\2011_09_26_drive_0018_sync\\image_03\n",
      "..\\data\\2011_09_26_drive_0018_sync\\velodyne_points\n",
      "..\\data\\2011_09_26_drive_0018_sync\\tracklet_labels.xml\n",
      "..\\data\\2011_09_26_drive_0018_sync\\tracklet_labels.xml\n",
      "<Element 'boost_serialization' at 0x000001743E180680>\n",
      "boost_serialization\n",
      "{'signature': 'serialization::archive', 'version': '9'}\n",
      "<Element 'tracklets' at 0x000001743E183100>\n",
      "..\\data\\2011_09_26_drive_0018_sync\\labels\n",
      "\n",
      "..\\data\\2011_09_26_drive_0051_sync\\oxts\n",
      "..\\data\\2011_09_26_drive_0051_sync\\image_00\n",
      "..\\data\\2011_09_26_drive_0051_sync\\image_01\n",
      "..\\data\\2011_09_26_drive_0051_sync\\image_02\n",
      "..\\data\\2011_09_26_drive_0051_sync\\image_03\n",
      "..\\data\\2011_09_26_drive_0051_sync\\velodyne_points\n",
      "..\\data\\2011_09_26_drive_0051_sync\\tracklet_labels.xml\n",
      "..\\data\\2011_09_26_drive_0051_sync\\tracklet_labels.xml\n",
      "<Element 'boost_serialization' at 0x000001743E1F07C0>\n",
      "boost_serialization\n",
      "{'signature': 'serialization::archive', 'version': '9'}\n",
      "<Element 'tracklets' at 0x000001743E1F0860>\n",
      "..\\data\\2011_09_26_drive_0051_sync\\labels\n",
      "\n",
      "..\\data\\2011_09_26_drive_0060_sync\\oxts\n",
      "..\\data\\2011_09_26_drive_0060_sync\\image_00\n",
      "..\\data\\2011_09_26_drive_0060_sync\\image_01\n",
      "..\\data\\2011_09_26_drive_0060_sync\\image_02\n",
      "..\\data\\2011_09_26_drive_0060_sync\\image_03\n",
      "..\\data\\2011_09_26_drive_0060_sync\\velodyne_points\n",
      "..\\data\\2011_09_26_drive_0060_sync\\tracklet_labels.xml\n",
      "..\\data\\2011_09_26_drive_0060_sync\\tracklet_labels.xml\n",
      "<Element 'boost_serialization' at 0x000001743E181E90>\n",
      "boost_serialization\n",
      "{'signature': 'serialization::archive', 'version': '9'}\n",
      "<Element 'tracklets' at 0x000001743E180CC0>\n",
      "..\\data\\2011_09_26_drive_0060_sync\\labels\n",
      "\n",
      "..\\data\\2011_09_26_drive_0001_sync\\oxts\n",
      "..\\data\\2011_09_26_drive_0001_sync\\image_00\n",
      "..\\data\\2011_09_26_drive_0001_sync\\image_01\n",
      "..\\data\\2011_09_26_drive_0001_sync\\image_02\n",
      "..\\data\\2011_09_26_drive_0001_sync\\image_03\n",
      "..\\data\\2011_09_26_drive_0001_sync\\velodyne_points\n",
      "..\\data\\2011_09_26_drive_0001_sync\\tracklet_labels.xml\n",
      "..\\data\\2011_09_26_drive_0001_sync\\tracklet_labels.xml\n",
      "<Element 'boost_serialization' at 0x000001743E1F0AE0>\n",
      "boost_serialization\n",
      "{'signature': 'serialization::archive', 'version': '9'}\n",
      "<Element 'tracklets' at 0x000001743E1F0360>\n",
      "..\\data\\2011_09_26_drive_0001_sync\\labels\n",
      "..\\data\\2011_09_26_drive_0001_sync\\.ipynb_checkpoints\n",
      "\n",
      "..\\data\\2011_09_26_drive_0002_sync\\tracklet_labels.xml\n",
      "..\\data\\2011_09_26_drive_0002_sync\\tracklet_labels.xml\n",
      "<Element 'boost_serialization' at 0x000001743E180590>\n",
      "boost_serialization\n",
      "{'signature': 'serialization::archive', 'version': '9'}\n",
      "<Element 'tracklets' at 0x000001743E180A90>\n",
      "..\\data\\2011_09_26_drive_0002_sync\\image_00\n",
      "..\\data\\2011_09_26_drive_0002_sync\\image_01\n",
      "..\\data\\2011_09_26_drive_0002_sync\\image_02\n",
      "..\\data\\2011_09_26_drive_0002_sync\\image_03\n",
      "..\\data\\2011_09_26_drive_0002_sync\\oxts\n",
      "..\\data\\2011_09_26_drive_0002_sync\\velodyne_points\n",
      "..\\data\\2011_09_26_drive_0002_sync\\labels\n",
      "\n"
     ]
    }
   ],
   "source": [
    "p = Path(DATA_DIR_ROOT)\n",
    "\n",
    "# For each sequence in the data\n",
    "for child in p.iterdir(): \n",
    "    if child.is_dir():\n",
    "        \n",
    "        # Add a folder for labels\n",
    "        label_path = Path(child, 'labels')\n",
    "        label_path.mkdir(exist_ok=True)\n",
    "        \n",
    "        \n",
    "        \n",
    "        # Make frame dictionary\n",
    "        frame_dict = get_initialized_frame_dict()\n",
    "        \n",
    "        # Get the labels for the sequence\n",
    "        sequence_dir = Path(child)\n",
    "        get_sequence_labels(sequence_dir)\n",
    "        \n",
    "        \n",
    "        "
   ]
  },
  {
   "cell_type": "code",
   "execution_count": null,
   "id": "3b0619f0-88ad-4274-8ca5-177c9d18cb60",
   "metadata": {},
   "outputs": [],
   "source": []
  },
  {
   "cell_type": "code",
   "execution_count": null,
   "id": "50a19f32-4f05-439f-b166-23a821a6b901",
   "metadata": {},
   "outputs": [],
   "source": []
  },
  {
   "cell_type": "code",
   "execution_count": null,
   "id": "c454d974-1bf7-430f-9907-19446b3caab6",
   "metadata": {},
   "outputs": [],
   "source": []
  },
  {
   "cell_type": "code",
   "execution_count": null,
   "id": "bbef33ed-1c71-4600-8c47-31bbb76bb2cb",
   "metadata": {},
   "outputs": [],
   "source": []
  },
  {
   "cell_type": "raw",
   "id": "fdb029d6-b803-4ea9-a876-67ec7bb807a3",
   "metadata": {},
   "source": [
    "Create a folder for the labels\n",
    "Open the tracklet file\n",
    "for each tracklet,\n",
    "    Start a loop for each frame for that tracklet\n",
    "    For each:\n",
    "        Make sure there's a .txt file for that frame\n",
    "        Or, I guess, I can build a dataframe or dictionary, I guess that has an index for each frame and the value is text.\n",
    "        So for each tracklet frame, I'll go to that frame in the dictionary and append the tracklet information at the end"
   ]
  },
  {
   "cell_type": "markdown",
   "id": "251bc1be-273e-4a77-93dc-39aa3df95fe5",
   "metadata": {},
   "source": [
    "Do for each folder in the data folder"
   ]
  }
 ],
 "metadata": {
  "kernelspec": {
   "display_name": "Python 3 (ipykernel)",
   "language": "python",
   "name": "python3"
  },
  "language_info": {
   "codemirror_mode": {
    "name": "ipython",
    "version": 3
   },
   "file_extension": ".py",
   "mimetype": "text/x-python",
   "name": "python",
   "nbconvert_exporter": "python",
   "pygments_lexer": "ipython3",
   "version": "3.11.3"
  }
 },
 "nbformat": 4,
 "nbformat_minor": 5
}

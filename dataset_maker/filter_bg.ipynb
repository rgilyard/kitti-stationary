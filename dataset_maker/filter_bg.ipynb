{
 "cells": [
  {
   "cell_type": "markdown",
   "id": "b6e7e623-3db1-47b0-a2a9-dd076b04be2b",
   "metadata": {},
   "source": [
    "# Filter each stationary frame"
   ]
  },
  {
   "cell_type": "code",
   "execution_count": null,
   "id": "7a689bb4-b129-40f6-a07a-2c94e6604124",
   "metadata": {},
   "outputs": [],
   "source": [
    "import matplotlib.pyplot as plt\n",
    "from mpl_toolkits.mplot3d import Axes3D\n",
    "import pandas as pd\n",
    "import numpy as np\n",
    "import json\n",
    "import os"
   ]
  },
  {
   "cell_type": "markdown",
   "id": "a0bd788e-d8f5-4621-84a5-764b6f1f59ff",
   "metadata": {},
   "source": [
    "## Constants and such"
   ]
  },
  {
   "cell_type": "code",
   "execution_count": null,
   "id": "f77dba0c-506d-41f7-94e0-1f78bd80b165",
   "metadata": {},
   "outputs": [],
   "source": [
    "# Set background map resolutions\n",
    "azimuth_resolution = 1\n",
    "height_resolution = 0.5"
   ]
  },
  {
   "cell_type": "code",
   "execution_count": null,
   "id": "73db7eb6-b3f9-4a18-b7bd-a7d6d7515511",
   "metadata": {},
   "outputs": [],
   "source": [
    "DATA_DIR_ROOT = '../stationary_data'"
   ]
  },
  {
   "cell_type": "markdown",
   "id": "af74dafa-7133-428b-8799-dbe0d7d67127",
   "metadata": {},
   "source": [
    "## First, functions for making background map"
   ]
  },
  {
   "cell_type": "code",
   "execution_count": null,
   "id": "39f724e2-15bf-4f35-b560-9d0d15606462",
   "metadata": {},
   "outputs": [],
   "source": [
    "# Create the grid DataFrames\n",
    "def create_grid_dataframes(azimuth_map, height_map):\n",
    "    grid_shape = (len(height_map), len(azimuth_map))\n",
    "    df_distances = pd.DataFrame({key: [[] for _ in range(len(height_map))] \\\n",
    "                                 for key in azimuth_map.keys()}, index=height_map.keys())\n",
    "    df_intensities = pd.DataFrame({key: [[] for _ in range(len(height_map))] \\\n",
    "                                   for key in azimuth_map.keys()}, index=height_map.keys())\n",
    "    return df_distances, df_intensities"
   ]
  },
  {
   "cell_type": "code",
   "execution_count": null,
   "id": "2b0b2769-48b9-4b86-a127-a6ac5089a830",
   "metadata": {},
   "outputs": [],
   "source": [
    "# Create mappings for azimuth and height using integers\n",
    "def create_mappings(azimuth_step=azimuth_resolution, height_step=height_resolution):\n",
    "    azimuth_range = np.arange(-180, 180 + azimuth_step, azimuth_step)\n",
    "    height_range = np.arange(-30, 10 + height_step, height_step)\n",
    "    azimuth_map = {int(az * 10): idx for idx, az in enumerate(azimuth_range)}\n",
    "    height_map = {int(ht * 10): idx for idx, ht in enumerate(height_range)}\n",
    "    return azimuth_map, height_map"
   ]
  },
  {
   "cell_type": "code",
   "execution_count": null,
   "id": "87791ed8-709c-43ec-808f-a7f735d6cf9b",
   "metadata": {},
   "outputs": [],
   "source": [
    "# Process file into grid\n",
    "def process_file_to_grid(file_path, df_distances, df_intensities, azimuth_map, height_map):\n",
    "    data = np.fromfile(file_path, dtype=np.float32).reshape(-1, 4)\n",
    "    for x, y, z, intensity in data:\n",
    "        distance = np.sqrt(x**2 + y**2 + z**2)\n",
    "        azimuth = np.degrees(np.arctan2(y, x))\n",
    "        height = np.degrees(np.arctan2(z, np.sqrt(x**2 + y**2)))\n",
    "        # Convert and scale\n",
    "        azimuth_idx = int(np.floor((azimuth + 180) / azimuth_resolution) * azimuth_resolution * 10) - 1800\n",
    "        height_idx = int(np.floor((height + 30) / height_resolution)) - 300\n",
    "        # Update DataFrames directly using indices\n",
    "        if azimuth_idx in azimuth_map and height_idx in height_map:\n",
    "            df_distances.at[height_idx, azimuth_idx].append(distance)\n",
    "            df_intensities.at[height_idx, azimuth_idx].append(intensity)"
   ]
  },
  {
   "cell_type": "code",
   "execution_count": null,
   "id": "7c85de3a-dfd7-4b10-a443-44b1f32c1fe0",
   "metadata": {},
   "outputs": [],
   "source": []
  },
  {
   "cell_type": "code",
   "execution_count": null,
   "id": "93b57a23-a646-47ac-baa2-028b2d745473",
   "metadata": {},
   "outputs": [],
   "source": []
  },
  {
   "cell_type": "code",
   "execution_count": null,
   "id": "fa11532b-a792-4de2-80a2-f1651219c6f3",
   "metadata": {},
   "outputs": [],
   "source": []
  },
  {
   "cell_type": "code",
   "execution_count": null,
   "id": "b3dee6ce-5e31-4ec9-b5f4-7adc9c1dca8d",
   "metadata": {},
   "outputs": [],
   "source": []
  },
  {
   "cell_type": "code",
   "execution_count": null,
   "id": "104e64e5-35ae-4a17-8360-46a6fa98221b",
   "metadata": {},
   "outputs": [],
   "source": [
    "# Function to create the background map DataFrame\n",
    "# Takes a dataframe of the grid distances and intensity\n",
    "def create_background_map(df_distances, df_intensities):\n",
    "    # Initialize a list to store each row (as a dictionary) before creating the DataFrame\n",
    "    data = []\n",
    "\n",
    "    # Iterate through each cell in df_distances\n",
    "    for (height, azimuth), distances in df_distances.stack().items():\n",
    "        if distances:  # Make sure there are distances recorded in the cell\n",
    "            # Get the corresponding intensities\n",
    "            intensities = df_intensities.at[height, azimuth]\n",
    "            \n",
    "            # Calculate the median distance and average intensity\n",
    "            distance = np.max(distances) - np.std(distances)\n",
    "            average_intensity = np.mean(intensities)\n",
    "\n",
    "            # Prepare a dictionary for the new row\n",
    "            new_row = {\n",
    "                'Azimuth': azimuth / 10,  # Convert back to original scale\n",
    "                'Height': height / 10,    # Convert back to original scale\n",
    "                'Distance': distance,\n",
    "                'Average Intensity': average_intensity\n",
    "            }\n",
    "            data.append(new_row)\n",
    "\n",
    "    # Create the DataFrame from the list of dictionaries\n",
    "    background_map = pd.DataFrame(data)\n",
    "    return background_map"
   ]
  },
  {
   "cell_type": "code",
   "execution_count": null,
   "id": "f0288c64-048c-48f9-9077-f420df6d9afd",
   "metadata": {},
   "outputs": [],
   "source": [
    "background_map_df = create_background_map(df_distances, df_intensities)"
   ]
  },
  {
   "cell_type": "code",
   "execution_count": null,
   "id": "f532006e-71c8-4178-bf4d-cf7941dc0cce",
   "metadata": {},
   "outputs": [],
   "source": [
    "def generate_background_map(dir):\n",
    "    pass"
   ]
  },
  {
   "cell_type": "code",
   "execution_count": null,
   "id": "5c3d89fa-eb23-4ac9-a71f-5b76ee41ea6d",
   "metadata": {},
   "outputs": [],
   "source": []
  },
  {
   "cell_type": "markdown",
   "id": "6231c973-5d7e-476e-9fc5-44c09d4ef27c",
   "metadata": {},
   "source": [
    "## Filtering and saving functions"
   ]
  },
  {
   "cell_type": "code",
   "execution_count": null,
   "id": "9f742807-8599-44f8-a52e-7b5b14f12cd3",
   "metadata": {},
   "outputs": [],
   "source": [
    "def filter_frames(dir, backgroun_map):\n",
    "    # Create a new folder for the filtered frames in the directory\n",
    "    # For each frame\n",
    "    # Filter"
   ]
  },
  {
   "cell_type": "code",
   "execution_count": null,
   "id": "f5b5c6bb-6eb6-4673-b6cd-6a30de187540",
   "metadata": {},
   "outputs": [],
   "source": []
  },
  {
   "cell_type": "code",
   "execution_count": null,
   "id": "639cb573-5c95-4d31-aa22-862a1b2a4077",
   "metadata": {},
   "outputs": [],
   "source": [
    "# For each folder in the stationary data directory\n",
    "p = Path(DATA_DIR_ROOT)\n",
    "\n",
    "# For each sequence (folder) in the stationary data\n",
    "for dir in p.iterdir(): \n",
    "    if dir.is_dir():\n",
    "    # Make background map\n",
    "    background_map = generate_background_map(dir)\n",
    "    # Filter and save each filtered frame\n",
    "    filter_frames(dir, background_map)"
   ]
  }
 ],
 "metadata": {
  "kernelspec": {
   "display_name": "Python 3 (ipykernel)",
   "language": "python",
   "name": "python3"
  },
  "language_info": {
   "codemirror_mode": {
    "name": "ipython",
    "version": 3
   },
   "file_extension": ".py",
   "mimetype": "text/x-python",
   "name": "python",
   "nbconvert_exporter": "python",
   "pygments_lexer": "ipython3",
   "version": "3.11.9"
  }
 },
 "nbformat": 4,
 "nbformat_minor": 5
}

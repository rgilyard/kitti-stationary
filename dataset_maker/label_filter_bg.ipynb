{
 "cells": [
  {
   "cell_type": "markdown",
   "id": "164a5164-8be7-4eaf-9525-35acfed5b480",
   "metadata": {},
   "source": [
    "# Filter the points outside of the ROI"
   ]
  },
  {
   "cell_type": "code",
   "execution_count": 3,
   "id": "91d6e9d3-650c-45c5-9eb7-0a4a3355b14e",
   "metadata": {},
   "outputs": [],
   "source": [
    "import os\n",
    "import pandas as pd\n",
    "import numpy as np\n",
    "from pathlib import Path"
   ]
  },
  {
   "cell_type": "markdown",
   "id": "a0faa570-c641-48ce-a69f-a00249f0320e",
   "metadata": {},
   "source": [
    "## Constants"
   ]
  },
  {
   "cell_type": "code",
   "execution_count": 5,
   "id": "21ad96f3-6ed1-4901-b9ba-f477ea476fcc",
   "metadata": {},
   "outputs": [],
   "source": [
    "DATA_DIR_ROOT = '../stationary_data'"
   ]
  },
  {
   "cell_type": "code",
   "execution_count": 6,
   "id": "dd9fc08a-d910-483e-a16c-68561b2d5532",
   "metadata": {},
   "outputs": [],
   "source": [
    "def point_is_in_an_roi_box(point, roi_box_list):\n",
    "    # Extract the point coordinates\n",
    "    x, y, z = point\n",
    "    \n",
    "    for bbox in roi_box_list:\n",
    "        # Extract the box parameters\n",
    "        # dz, dy, dx, cx, cy, cz, yaw = bbox\n",
    "        dx, dy, dz, cx, cy, cz, yaw = bbox\n",
    "        \n",
    "        \n",
    "        # Create the rotation matrix for the yaw angle\n",
    "        cos_yaw = np.cos(-yaw)  # Negative for the inverse rotation\n",
    "        sin_yaw = np.sin(-yaw)\n",
    "        \n",
    "        rotation_matrix = np.array([\n",
    "            [cos_yaw, -sin_yaw, 0],\n",
    "            [sin_yaw,  cos_yaw, 0],\n",
    "            [0,       0,       1]\n",
    "        ])\n",
    "        \n",
    "        # Translate the point to the box's coordinate frame\n",
    "        translated_point = np.array([x - cx, y - cy, z - cz])\n",
    "        \n",
    "        # Rotate the point to align with the box\n",
    "        rotated_point = rotation_matrix.dot(translated_point)\n",
    "        \n",
    "        # Check if the point is within the box dimensions\n",
    "        half_lengths = [dz / 2, dy / 2, dx / 2]\n",
    "        in_box = all([\n",
    "            -half_lengths[i] <= rotated_point[i] <= half_lengths[i] for i in range(3)\n",
    "        ])\n",
    "    \n",
    "        if in_box:\n",
    "            return True\n",
    "    \n",
    "    return False"
   ]
  },
  {
   "cell_type": "code",
   "execution_count": 7,
   "id": "9b794626-b24c-4d17-9529-3b30539dc857",
   "metadata": {},
   "outputs": [],
   "source": [
    "def get_roi_boxes(label_file):\n",
    "    bboxes = []\n",
    "    with open(label_file, 'r') as file:\n",
    "        for line in file:\n",
    "            parts = line.strip().split()\n",
    "            bbox = [float(value) for value in parts[8:15]]  # Extract the bounding box dimensions and location\n",
    "            bboxes.append(bbox)\n",
    "    return np.array(bboxes)\n",
    "    # dz, dy, dx, x, y, z, yaw = bbox"
   ]
  },
  {
   "cell_type": "code",
   "execution_count": 8,
   "id": "2497fdec-d470-43f0-b591-e56d89426a65",
   "metadata": {},
   "outputs": [],
   "source": [
    "def convert_to_dataframe(bin_path):\n",
    "    pre_filtered_data = np.fromfile(bin_path, dtype=np.float32).reshape(-1, 4) \n",
    "    columns = ['x', 'y', 'z', 'intensity']\n",
    "    df = pd.DataFrame(pre_filtered_data, columns=columns)\n",
    "    return df"
   ]
  },
  {
   "cell_type": "code",
   "execution_count": 9,
   "id": "5226a5ba-cece-4981-a8ce-426015a8ae57",
   "metadata": {},
   "outputs": [],
   "source": [
    "def roi_filter_points(input_file, label_file):\n",
    "    # Get dataframe from input file\n",
    "    input_df = convert_to_dataframe(input_file)\n",
    "    list_roi_boxes = get_roi_boxes(label_file)\n",
    "    # print(list_roi_boxes)\n",
    "    \n",
    "    # Initialize a list to store rows that meet the criteria\n",
    "    filtered_data = []\n",
    "\n",
    "    # Iterate through each row in the input DataFrame\n",
    "    for index, row in input_df.iterrows():\n",
    "    # for index, row in input_df.iloc[:3].iterrows():\n",
    "        point = (row['x'], row['y'], row['z'])\n",
    "        # Check if the point is inside any of the ROI boxes\n",
    "        if point_is_in_an_roi_box(point, list_roi_boxes):\n",
    "            filtered_data.append(row)\n",
    "        \n",
    "\n",
    "    # Create a DataFrame from the filtered data\n",
    "    filtered_df = pd.DataFrame(filtered_data)\n",
    "    return filtered_df"
   ]
  },
  {
   "cell_type": "code",
   "execution_count": 10,
   "id": "603cda6a-0752-44e6-a958-874ea1607193",
   "metadata": {},
   "outputs": [],
   "source": [
    "def save_as_binary(df, bin_path):\n",
    "    if df.empty:\n",
    "        return\n",
    "    # Ensure the DataFrame is in the correct order and data type\n",
    "    data = df[['x', 'y', 'z', 'intensity']].astype(np.float32).values\n",
    "    \n",
    "    # Write the data to a binary file\n",
    "    data.tofile(bin_path)"
   ]
  },
  {
   "cell_type": "code",
   "execution_count": 11,
   "id": "82188600-4622-4a4d-a760-75286cf09f87",
   "metadata": {},
   "outputs": [],
   "source": [
    "def process_directory(dir):\n",
    "    print(dir)\n",
    "    # Make new folder for filtered frames\n",
    "    new_save_location = Path(dir, 'roi_filtered_points')\n",
    "    new_save_location.mkdir(exist_ok=True)\n",
    "\n",
    "    # Original frame path\n",
    "    lidar_dir = Path(dir, 'velodyne_points')\n",
    "    label_dir = Path(dir, 'labels')\n",
    "    \n",
    "    # Get just the file names\n",
    "    files = [f for f in os.listdir(lidar_dir) if f.endswith('.bin')]\n",
    "    # For each file\n",
    "    # for filename in files[:3]:\n",
    "    for filename in files:\n",
    "        print('.', end='')\n",
    "        # Append file name to location\n",
    "        from_file = Path(lidar_dir, filename)\n",
    "        label_file = Path(label_dir, filename[:-4] + '.txt')\n",
    "\n",
    "        # Filter file\n",
    "        # SEND BOTH BIN AND LABELS\n",
    "        roi_filtered_df = roi_filter_points(from_file, label_file)\n",
    "\n",
    "        # APPEND FILE NAME TO NEW LOCATION\n",
    "        to_file = Path(new_save_location, filename)\n",
    "\n",
    "        # CONVERT BACK TO BINARY and save\n",
    "        save_as_binary(roi_filtered_df, to_file)\n",
    "\n",
    "    print()\n",
    "    print()"
   ]
  },
  {
   "cell_type": "code",
   "execution_count": 12,
   "id": "adf82909-88a4-4154-8208-c56d588aa288",
   "metadata": {},
   "outputs": [],
   "source": [
    "def filter_by_roi():\n",
    "    # For each folder in the stationary data directory\n",
    "    p = Path(DATA_DIR_ROOT)\n",
    "    \n",
    "    # For each sequence (folder) in the stationary data\n",
    "    for dir in p.iterdir(): \n",
    "        if dir.is_dir():\n",
    "            process_directory(dir)\n",
    "            "
   ]
  },
  {
   "cell_type": "code",
   "execution_count": 13,
   "id": "d0b000fb-8a53-424b-b3ad-24589ee1982a",
   "metadata": {},
   "outputs": [
    {
     "name": "stdout",
     "output_type": "stream",
     "text": [
      "..\\stationary_data\\2011_09_26_drive_0017_sync_0_to_113\n",
      "..................................................................................................................\n",
      "\n",
      "..\\stationary_data\\2011_09_26_drive_0018_sync_0_to_178\n",
      "...................................................................................................................................................................................\n",
      "\n",
      "..\\stationary_data\\2011_09_26_drive_0051_sync_210_to_210\n",
      ".\n",
      "\n",
      "..\\stationary_data\\2011_09_26_drive_0051_sync_224_to_360\n",
      ".........................................................................................................................................\n",
      "\n",
      "..\\stationary_data\\2011_09_26_drive_0060_sync_0_to_77\n",
      "..............................................................................\n",
      "\n",
      "..\\stationary_data\\2011_09_26_drive_0009_sync_404_to_404\n",
      ".\n",
      "\n",
      "..\\stationary_data\\2011_09_26_drive_0009_sync_422_to_446\n",
      ".........................\n",
      "\n",
      "..\\stationary_data\\2011_09_26_drive_0011_sync_167_to_232\n",
      "..................................................................\n",
      "\n",
      "..\\stationary_data\\2011_09_26_drive_0059_sync_239_to_245\n",
      ".......\n",
      "\n",
      "..\\stationary_data\\2011_09_26_drive_0079_sync_93_to_99\n",
      ".......\n",
      "\n",
      "..\\stationary_data\\2011_09_26_drive_0084_sync_0_to_47\n",
      "................................................\n",
      "\n",
      "..\\stationary_data\\2011_09_26_drive_0086_sync_696_to_696\n",
      ".\n",
      "\n",
      "..\\stationary_data\\2011_09_26_drive_0086_sync_700_to_700\n",
      ".\n",
      "\n",
      "..\\stationary_data\\2011_09_26_drive_0029_sync_206_to_260\n",
      ".......................................................\n",
      "\n"
     ]
    }
   ],
   "source": [
    "filter_by_roi()"
   ]
  }
 ],
 "metadata": {
  "kernelspec": {
   "display_name": "Python 3 (ipykernel)",
   "language": "python",
   "name": "python3"
  },
  "language_info": {
   "codemirror_mode": {
    "name": "ipython",
    "version": 3
   },
   "file_extension": ".py",
   "mimetype": "text/x-python",
   "name": "python",
   "nbconvert_exporter": "python",
   "pygments_lexer": "ipython3",
   "version": "3.11.9"
  }
 },
 "nbformat": 4,
 "nbformat_minor": 5
}

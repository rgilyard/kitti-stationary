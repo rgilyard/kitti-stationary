{
 "cells": [
  {
   "cell_type": "markdown",
   "id": "deebde95-4cf5-4d87-a48d-160dbfd87f48",
   "metadata": {},
   "source": [
    "Stationary Dataset Creation\n",
    "from the KITTI dataset\n",
    "In my data folder, there are other folders from the KITTI dataset.\n",
    "Each of those folders is of a sequence. For each sequence, there is a folder for\n",
    "- image_00: black and white images from camera 1\n",
    "- image_01: black and white images from camera 2\n",
    "- image_02: color images from camera 1\n",
    "- image_03: color images from camera 2\n",
    "- oxts: Oxford Technical Solutions - the gps and positional data for the vehicle.\n",
    "- velodyne_points: the lidar frames from the sequence\n",
    "- tracklet_labels.xml: the labels for the lidar"
   ]
  },
  {
   "cell_type": "markdown",
   "id": "45ef0628-9dee-471b-b118-64fca68bbc0a",
   "metadata": {},
   "source": [
    "What I would like to end up with:\n",
    "- The data in kitti format. Images, lidar frames, labels, and camera images\n",
    "(by the way, I would have the calibration data for this)."
   ]
  },
  {
   "cell_type": "markdown",
   "id": "733dcaf1-c245-4aef-9456-7b3fc36423f8",
   "metadata": {},
   "source": [
    "Intermediate data:\n",
    "- for each sequence folder, I would like to make a folder for each stationary sequence.\n",
    "- Each one of those folders contains \n",
    "    - a set of images, starting from 00000000.\n",
    "    - a set of corresponding original lidar frames\n",
    "    - a set of filtered lidar frames\n",
    "    - (later) a set of labeled points frames\n",
    "    - corresponding labels for each frame"
   ]
  },
  {
   "cell_type": "markdown",
   "id": "8478f7af-69a6-4bd0-9603-64d0e10dc3bf",
   "metadata": {},
   "source": [
    "To do list to get to the intermediate data\n",
    "For each of the folders in the original data:\n",
    "1. Get the stationary sequences\n",
    "2. Create folders for each stationary sequence\n",
    "   The folders can be the name of the original folder, plus the included frames\n",
    "    - images\n",
    "    - lidar_original\n",
    "    - lidar_filtered\n",
    "    - lidar_labeled_points\n",
    "    - labels\n",
    "3. For each stationary sequence, copy over the images (reindexing so the first one is 000000)\n",
    "4. Also copy over the corresponding original lidar frames.\n",
    "5. Filter the lidar frames and copy the filtered frames over.\n",
    "6. Convert the .xml files to label frames.\n",
    "7. Move the frame labels over.\n",
    "8. Extract the labeled points, and copy those frames over."
   ]
  },
  {
   "cell_type": "markdown",
   "id": "994c17b5-91d5-4348-ad0a-c5ae019707af",
   "metadata": {},
   "source": [
    "To do list to get from intermediate to kitti format\n",
    "- Go through each folder, keeping track of current index\n",
    "- move/copy all frame sets to the kitti format while reindexing\n",
    "- There will be 3 kitti sets, one each for stationary, filtered, and labeled points\n",
    "- Should the test/train split be the same?\n",
    "- also, perhaps also have three folders for just running inference and testing with the nuscenes model on kitti data"
   ]
  }
 ],
 "metadata": {
  "kernelspec": {
   "display_name": "Python 3 (ipykernel)",
   "language": "python",
   "name": "python3"
  },
  "language_info": {
   "codemirror_mode": {
    "name": "ipython",
    "version": 3
   },
   "file_extension": ".py",
   "mimetype": "text/x-python",
   "name": "python",
   "nbconvert_exporter": "python",
   "pygments_lexer": "ipython3",
   "version": "3.11.3"
  }
 },
 "nbformat": 4,
 "nbformat_minor": 5
}

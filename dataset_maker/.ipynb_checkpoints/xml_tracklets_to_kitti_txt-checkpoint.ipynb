{
 "cells": [
  {
   "cell_type": "markdown",
   "id": "8db0208e-43d3-4902-82d1-2e5a1c3aea63",
   "metadata": {},
   "source": [
    "# Convert the XML tracklet files to kitti format txt labels files"
   ]
  },
  {
   "cell_type": "markdown",
   "id": "10676a8e-3686-42d4-81b3-9185a2687829",
   "metadata": {},
   "source": []
  },
  {
   "cell_type": "markdown",
   "id": "befaa37d-1fe9-49b3-8489-9b0a1f46f8cf",
   "metadata": {},
   "source": [
    "## Imports"
   ]
  },
  {
   "cell_type": "code",
   "execution_count": 1,
   "id": "98f9996d-ef8f-4ee0-86c3-ef180a890683",
   "metadata": {},
   "outputs": [],
   "source": [
    "import os\n",
    "from pathlib import Path\n",
    "import xml.etree.ElementTree as ET"
   ]
  },
  {
   "cell_type": "markdown",
   "id": "639645e9-7e8d-4dc4-ac2a-737e0cb30345",
   "metadata": {},
   "source": [
    "## Constants and strings"
   ]
  },
  {
   "cell_type": "code",
   "execution_count": 2,
   "id": "99bc19a8-97a0-4716-8c32-bc124db36ddc",
   "metadata": {},
   "outputs": [],
   "source": [
    "DATA_DIR_ROOT = '../data'"
   ]
  },
  {
   "cell_type": "markdown",
   "id": "fd80e448-4039-45ac-a350-9a2f353ca022",
   "metadata": {},
   "source": [
    "## Go through each data folder"
   ]
  },
  {
   "cell_type": "code",
   "execution_count": 3,
   "id": "8620b65e-76db-4ca0-8d7e-8c56444376d0",
   "metadata": {
    "tags": []
   },
   "outputs": [
    {
     "data": {
      "text/plain": [
       "['2011_09_26_drive_0017_sync',\n",
       " '2011_09_26_drive_0018_sync',\n",
       " '2011_09_26_drive_0051_sync',\n",
       " '2011_09_26_drive_0060_sync',\n",
       " '2011_09_26_drive_0001_sync',\n",
       " '2011_09_26_drive_0002_sync',\n",
       " 'calib_cam_to_cam.txt',\n",
       " 'calib_imu_to_velo.txt',\n",
       " 'calib_velo_to_cam.txt']"
      ]
     },
     "execution_count": 3,
     "metadata": {},
     "output_type": "execute_result"
    }
   ],
   "source": [
    "os.listdir(DATA_DIR_ROOT)"
   ]
  },
  {
   "cell_type": "code",
   "execution_count": 4,
   "id": "6357de32-f6fa-45c0-8dfa-2ff173e4db3c",
   "metadata": {},
   "outputs": [],
   "source": [
    "# Make dictionary with an entry for each frame of sequence\n",
    "def get_initialized_frame_dict(frame_data_path):\n",
    "    # Make a dictionary\n",
    "    label_dict = dict()\n",
    "    \n",
    "    # For each file in the folder\n",
    "    for child in frame_data_path.iterdir():\n",
    "        # Get the file name without the extension\n",
    "        # print(child.name)\n",
    "        frame_index = child.name[:-4]\n",
    "        \n",
    "        # If the file name is an integer\n",
    "        if frame_index.isdigit():\n",
    "            # Then use it to add an entry to the dictionary (an empty list)\n",
    "            label_dict[frame_index] = []\n",
    "    \n",
    "    return label_dict"
   ]
  },
  {
   "cell_type": "code",
   "execution_count": null,
   "id": "62327228-0f8f-4b1a-95ad-82ae54d01fb9",
   "metadata": {},
   "outputs": [],
   "source": []
  },
  {
   "cell_type": "code",
   "execution_count": 25,
   "id": "a669c313-a88c-4aca-9b81-91c880d06444",
   "metadata": {},
   "outputs": [],
   "source": [
    "# Function to make labels\n",
    "\n",
    "'''\n",
    "object_type, truncation, occlusion, observation_angle, ...\n",
    "bbox(1), bbox(2), bbox(3), bbox(4), dimensions(1), dimensions(2), dimensions(3), ...\n",
    "location(1), location(2), location(3), rotation_y)\n",
    "\n",
    "type = <objectType>\n",
    "truncated = <truncation>\n",
    "occluded = <occlusion>\n",
    "alpha = N/A → defaults to -10 (?)\n",
    "bbox = N/A → defaults to 0.0 0.0 0.0 0.0\n",
    "dimensions = <h> <w> <l>\n",
    "location = <tx> <ty> <tz>\n",
    "rotation_y = <ry>\n",
    "score = N/A\n",
    "'''\n",
    "def populate_frame_label_dict(xml_path, label_dict):\n",
    "    # Make entry dictionary with 0 values\n",
    "    roi_dict = {\n",
    "        'type': '',\n",
    "        'truncated': 0.0,\n",
    "        'occluded': 0.0,\n",
    "        'alpha': 0.0,\n",
    "        'bbox_0': 0.0,\n",
    "        'bbox_1': 0.0,\n",
    "        'bbox_2': 0.0,\n",
    "        'bbox_3': 0.0,\n",
    "        'dimensions_h': 0.0,\n",
    "        'dimensions_w': 0.0,\n",
    "        'dimensions_l': 0.0,\n",
    "        'location_tx': 0.0,\n",
    "        'location_ty': 0.0,\n",
    "        'location_tz': 0.0,\n",
    "        'rotation_y': 0.0\n",
    "    }\n",
    "    \n",
    "    print(xml_path)\n",
    "    tree = ET.parse(xml_path)\n",
    "    root = tree.getroot()\n",
    "    \n",
    "    # get tracklets\n",
    "    tracklets = root[0]\n",
    "    # print(tracklets)\n",
    "    \n",
    "    stem_entry = ''\n",
    "    \n",
    "    for car_item in tracklets.findall('item'):\n",
    "        # Each item is a car,\n",
    "        print(car_item)\n",
    "        \n",
    "        # Get type\n",
    "        type = car_item.find('objectType').text\n",
    "        roi_dict['type'] = type\n",
    "        \n",
    "        # Get height and add to stem entry\n",
    "        height = car_item.find('h').text\n",
    "        roi_dict['dimensions_h'] = height\n",
    "        # Get width\n",
    "        width = car_item.find('w').text\n",
    "        roi_dict['dimensions_w'] = width\n",
    "        # Get length\n",
    "        length = car_item.find('l').text\n",
    "        roi_dict['dimensions_l'] = length\n",
    "        \n",
    "        # Get current frame\n",
    "        current_frame = int(car_item.find('first_frame').text)\n",
    "        print('current frame: ' + str(current_frame))\n",
    "        \n",
    "        poses = car_item.find('poses')\n",
    "        print(poses)\n",
    "        \n",
    "        frames = poses.findall('item')\n",
    "        \n",
    "        # For each frame of this object\n",
    "        for frame in frames:\n",
    "            print(frame)\n",
    "            \n",
    "            # Get this location,\n",
    "            roi_dict['location_tx'] = int(frame.find('tx').text)\n",
    "            roi_dict['location_ty'] = int(frame.find('ty').text)\n",
    "            roi_dict['location_tz'] = int(frame.find('tz').text)\n",
    "            \n",
    "            # Get the rotation\n",
    "            roi_dict['rotation_y'] = int(frame.find('rz').text)\n",
    "            \n",
    "            print('roi_dict: ', end='')\n",
    "            print(roi_dict)\n",
    "            \n",
    "            # Get string from roi\n",
    "            # Add to label dict at correct frame index\n",
    "            # Increment frame\n",
    "            # DO WE FOR SURE GO IN ORDER?\n",
    "            \n",
    "                    \n",
    "            # Get x, y, z, and rotation, tack those onto the stem, save to list\n",
    "                \n",
    "            \n",
    "            \n",
    "            \n",
    "            # Possible functions:\n",
    "                # Get roi string from dict\n",
    "            \n",
    "    \n",
    "    "
   ]
  },
  {
   "cell_type": "code",
   "execution_count": 6,
   "id": "990137bf-3988-4973-9952-eb196d80f58c",
   "metadata": {},
   "outputs": [],
   "source": [
    "# This function creates a dictionary for each frame in the sequence,\n",
    "# then populates the dictionary's list (value) with the frame's bounding boxes\n",
    "# Then, for each frame (key) in the dictionary, it creates and saves a text file of the frame's\n",
    "# bounding boxes\n",
    "\n",
    "def get_sequence_labels(sequence_dir):   \n",
    "    # Create and initialized dictionary\n",
    "    velodyne_path = Path(sequence_dir, 'velodyne_points', 'data')\n",
    "    frame_dict = get_initialized_frame_dict(velodyne_path)\n",
    "    \n",
    "    for child in sequence_dir.iterdir():\n",
    "        # Populate dictionary with labels from xml file\n",
    "        if str(child)[-4:] == '.xml':\n",
    "            populate_frame_label_dict(child, frame_dict)\n",
    "            \n",
    "    # TODO: Save labels to directory\n",
    "    \n",
    "    print()\n",
    "    return frame_dict"
   ]
  },
  {
   "cell_type": "code",
   "execution_count": 26,
   "id": "124acd0d-b0a5-433e-a294-abafb8102863",
   "metadata": {},
   "outputs": [
    {
     "name": "stdout",
     "output_type": "stream",
     "text": [
      "..\\data\\2011_09_26_drive_0017_sync\\tracklet_labels.xml\n",
      "<Element 'item' at 0x000002532F6A87C0>\n",
      "current frame: 0\n",
      "<Element 'poses' at 0x000002532F6A80E0>\n",
      "<Element 'item' at 0x000002532E9D54E0>\n"
     ]
    },
    {
     "ename": "AttributeError",
     "evalue": "'xml.etree.ElementTree.Element' object has no attribute 'txt'",
     "output_type": "error",
     "traceback": [
      "\u001b[1;31m---------------------------------------------------------------------------\u001b[0m",
      "\u001b[1;31mAttributeError\u001b[0m                            Traceback (most recent call last)",
      "Cell \u001b[1;32mIn[26], line 13\u001b[0m\n\u001b[0;32m     11\u001b[0m \u001b[38;5;66;03m# Save the labels for the sequence in the labels folder\u001b[39;00m\n\u001b[0;32m     12\u001b[0m sequence_dir \u001b[38;5;241m=\u001b[39m Path(child)\n\u001b[1;32m---> 13\u001b[0m get_sequence_labels(sequence_dir)\n",
      "Cell \u001b[1;32mIn[6], line 14\u001b[0m, in \u001b[0;36mget_sequence_labels\u001b[1;34m(sequence_dir)\u001b[0m\n\u001b[0;32m     11\u001b[0m \u001b[38;5;28;01mfor\u001b[39;00m child \u001b[38;5;129;01min\u001b[39;00m sequence_dir\u001b[38;5;241m.\u001b[39miterdir():\n\u001b[0;32m     12\u001b[0m     \u001b[38;5;66;03m# Populate dictionary with labels from xml file\u001b[39;00m\n\u001b[0;32m     13\u001b[0m     \u001b[38;5;28;01mif\u001b[39;00m \u001b[38;5;28mstr\u001b[39m(child)[\u001b[38;5;241m-\u001b[39m\u001b[38;5;241m4\u001b[39m:] \u001b[38;5;241m==\u001b[39m \u001b[38;5;124m'\u001b[39m\u001b[38;5;124m.xml\u001b[39m\u001b[38;5;124m'\u001b[39m:\n\u001b[1;32m---> 14\u001b[0m         populate_frame_label_dict(child, frame_dict)\n\u001b[0;32m     16\u001b[0m \u001b[38;5;66;03m# TODO: Save labels to directory\u001b[39;00m\n\u001b[0;32m     18\u001b[0m \u001b[38;5;28mprint\u001b[39m()\n",
      "Cell \u001b[1;32mIn[25], line 80\u001b[0m, in \u001b[0;36mpopulate_frame_label_dict\u001b[1;34m(xml_path, label_dict)\u001b[0m\n\u001b[0;32m     77\u001b[0m \u001b[38;5;28mprint\u001b[39m(frame)\n\u001b[0;32m     79\u001b[0m \u001b[38;5;66;03m# Get this location,\u001b[39;00m\n\u001b[1;32m---> 80\u001b[0m roi_dict[\u001b[38;5;124m'\u001b[39m\u001b[38;5;124mlocation_tx\u001b[39m\u001b[38;5;124m'\u001b[39m] \u001b[38;5;241m=\u001b[39m \u001b[38;5;28mint\u001b[39m(frame\u001b[38;5;241m.\u001b[39mfind(\u001b[38;5;124m'\u001b[39m\u001b[38;5;124mtx\u001b[39m\u001b[38;5;124m'\u001b[39m)\u001b[38;5;241m.\u001b[39mtxt)\n\u001b[0;32m     81\u001b[0m roi_dict[\u001b[38;5;124m'\u001b[39m\u001b[38;5;124mlocation_ty\u001b[39m\u001b[38;5;124m'\u001b[39m] \u001b[38;5;241m=\u001b[39m \u001b[38;5;28mint\u001b[39m(frame\u001b[38;5;241m.\u001b[39mfind(\u001b[38;5;124m'\u001b[39m\u001b[38;5;124mty\u001b[39m\u001b[38;5;124m'\u001b[39m)\u001b[38;5;241m.\u001b[39mtxt)\n\u001b[0;32m     82\u001b[0m roi_dict[\u001b[38;5;124m'\u001b[39m\u001b[38;5;124mlocation_tz\u001b[39m\u001b[38;5;124m'\u001b[39m] \u001b[38;5;241m=\u001b[39m \u001b[38;5;28mint\u001b[39m(frame\u001b[38;5;241m.\u001b[39mfind(\u001b[38;5;124m'\u001b[39m\u001b[38;5;124mtz\u001b[39m\u001b[38;5;124m'\u001b[39m)\u001b[38;5;241m.\u001b[39mtxt)\n",
      "\u001b[1;31mAttributeError\u001b[0m: 'xml.etree.ElementTree.Element' object has no attribute 'txt'"
     ]
    }
   ],
   "source": [
    "p = Path(DATA_DIR_ROOT)\n",
    "\n",
    "# For each sequence (folder) in the data\n",
    "for child in p.iterdir(): \n",
    "    if child.is_dir():\n",
    "        \n",
    "        # Add a folder for labels\n",
    "        label_path = Path(child, 'labels')\n",
    "        label_path.mkdir(exist_ok=True)\n",
    "        \n",
    "        # Save the labels for the sequence in the labels folder\n",
    "        sequence_dir = Path(child)\n",
    "        get_sequence_labels(sequence_dir)\n",
    "        "
   ]
  },
  {
   "cell_type": "code",
   "execution_count": null,
   "id": "3b0619f0-88ad-4274-8ca5-177c9d18cb60",
   "metadata": {},
   "outputs": [],
   "source": []
  },
  {
   "cell_type": "code",
   "execution_count": null,
   "id": "50a19f32-4f05-439f-b166-23a821a6b901",
   "metadata": {},
   "outputs": [],
   "source": []
  },
  {
   "cell_type": "code",
   "execution_count": null,
   "id": "c454d974-1bf7-430f-9907-19446b3caab6",
   "metadata": {},
   "outputs": [],
   "source": []
  },
  {
   "cell_type": "code",
   "execution_count": null,
   "id": "bbef33ed-1c71-4600-8c47-31bbb76bb2cb",
   "metadata": {},
   "outputs": [],
   "source": []
  },
  {
   "cell_type": "raw",
   "id": "fdb029d6-b803-4ea9-a876-67ec7bb807a3",
   "metadata": {},
   "source": [
    "Create a folder for the labels\n",
    "Open the tracklet file\n",
    "for each tracklet,\n",
    "    Start a loop for each frame for that tracklet\n",
    "    For each:\n",
    "        Make sure there's a .txt file for that frame\n",
    "        Or, I guess, I can build a dataframe or dictionary, I guess that has an index for each frame and the value is text.\n",
    "        So for each tracklet frame, I'll go to that frame in the dictionary and append the tracklet information at the end"
   ]
  },
  {
   "cell_type": "markdown",
   "id": "251bc1be-273e-4a77-93dc-39aa3df95fe5",
   "metadata": {},
   "source": [
    "Do for each folder in the data folder"
   ]
  }
 ],
 "metadata": {
  "kernelspec": {
   "display_name": "Python 3 (ipykernel)",
   "language": "python",
   "name": "python3"
  },
  "language_info": {
   "codemirror_mode": {
    "name": "ipython",
    "version": 3
   },
   "file_extension": ".py",
   "mimetype": "text/x-python",
   "name": "python",
   "nbconvert_exporter": "python",
   "pygments_lexer": "ipython3",
   "version": "3.11.3"
  }
 },
 "nbformat": 4,
 "nbformat_minor": 5
}

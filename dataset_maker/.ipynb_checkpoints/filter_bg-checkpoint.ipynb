{
 "cells": [
  {
   "cell_type": "markdown",
   "id": "b6e7e623-3db1-47b0-a2a9-dd076b04be2b",
   "metadata": {},
   "source": [
    "# Filter each stationary frame"
   ]
  },
  {
   "cell_type": "code",
   "execution_count": null,
   "id": "7a689bb4-b129-40f6-a07a-2c94e6604124",
   "metadata": {},
   "outputs": [],
   "source": [
    "import matplotlib.pyplot as plt\n",
    "from mpl_toolkits.mplot3d import Axes3D\n",
    "import pandas as pd\n",
    "import numpy as np\n",
    "import json\n",
    "import os"
   ]
  },
  {
   "cell_type": "markdown",
   "id": "a0bd788e-d8f5-4621-84a5-764b6f1f59ff",
   "metadata": {},
   "source": [
    "## Constants and such"
   ]
  },
  {
   "cell_type": "code",
   "execution_count": null,
   "id": "f77dba0c-506d-41f7-94e0-1f78bd80b165",
   "metadata": {},
   "outputs": [],
   "source": [
    "# Set background map resolutions\n",
    "azimuth_resolution = 1\n",
    "height_resolution = 0.5"
   ]
  },
  {
   "cell_type": "code",
   "execution_count": null,
   "id": "73db7eb6-b3f9-4a18-b7bd-a7d6d7515511",
   "metadata": {},
   "outputs": [],
   "source": [
    "DATA_DIR_ROOT = '../stationary_data'"
   ]
  },
  {
   "cell_type": "markdown",
   "id": "af74dafa-7133-428b-8799-dbe0d7d67127",
   "metadata": {},
   "source": [
    "## First, functions for making background map"
   ]
  },
  {
   "cell_type": "code",
   "execution_count": null,
   "id": "39f724e2-15bf-4f35-b560-9d0d15606462",
   "metadata": {},
   "outputs": [],
   "source": [
    "# Create the grid DataFrames\n",
    "def create_grid_dataframes(azimuth_map, height_map):\n",
    "    grid_shape = (len(height_map), len(azimuth_map))\n",
    "    df_distances = pd.DataFrame({key: [[] for _ in range(len(height_map))] \\\n",
    "                                 for key in azimuth_map.keys()}, index=height_map.keys())\n",
    "    df_intensities = pd.DataFrame({key: [[] for _ in range(len(height_map))] \\\n",
    "                                   for key in azimuth_map.keys()}, index=height_map.keys())\n",
    "    return df_distances, df_intensities"
   ]
  },
  {
   "cell_type": "code",
   "execution_count": null,
   "id": "f532006e-71c8-4178-bf4d-cf7941dc0cce",
   "metadata": {},
   "outputs": [],
   "source": [
    "def generate_background_map(dir):\n",
    "    pass"
   ]
  },
  {
   "cell_type": "code",
   "execution_count": null,
   "id": "5c3d89fa-eb23-4ac9-a71f-5b76ee41ea6d",
   "metadata": {},
   "outputs": [],
   "source": []
  },
  {
   "cell_type": "markdown",
   "id": "6231c973-5d7e-476e-9fc5-44c09d4ef27c",
   "metadata": {},
   "source": [
    "## Filtering and saving functions"
   ]
  },
  {
   "cell_type": "code",
   "execution_count": null,
   "id": "9f742807-8599-44f8-a52e-7b5b14f12cd3",
   "metadata": {},
   "outputs": [],
   "source": [
    "def filter_frames(dir, backgroun_map):\n",
    "    # Create a new folder for the filtered frames in the directory\n",
    "    # For each frame\n",
    "    # Filter"
   ]
  },
  {
   "cell_type": "code",
   "execution_count": null,
   "id": "f5b5c6bb-6eb6-4673-b6cd-6a30de187540",
   "metadata": {},
   "outputs": [],
   "source": []
  },
  {
   "cell_type": "code",
   "execution_count": null,
   "id": "639cb573-5c95-4d31-aa22-862a1b2a4077",
   "metadata": {},
   "outputs": [],
   "source": [
    "# For each folder in the stationary data directory\n",
    "p = Path(DATA_DIR_ROOT)\n",
    "\n",
    "# For each sequence (folder) in the stationary data\n",
    "for dir in p.iterdir(): \n",
    "    if dir.is_dir():\n",
    "    # Make background map\n",
    "    background_map = generate_background_map(dir)\n",
    "    # Filter and save each filtered frame\n",
    "    filter_frames(dir, background_map)"
   ]
  }
 ],
 "metadata": {
  "kernelspec": {
   "display_name": "Python 3 (ipykernel)",
   "language": "python",
   "name": "python3"
  },
  "language_info": {
   "codemirror_mode": {
    "name": "ipython",
    "version": 3
   },
   "file_extension": ".py",
   "mimetype": "text/x-python",
   "name": "python",
   "nbconvert_exporter": "python",
   "pygments_lexer": "ipython3",
   "version": "3.11.9"
  }
 },
 "nbformat": 4,
 "nbformat_minor": 5
}

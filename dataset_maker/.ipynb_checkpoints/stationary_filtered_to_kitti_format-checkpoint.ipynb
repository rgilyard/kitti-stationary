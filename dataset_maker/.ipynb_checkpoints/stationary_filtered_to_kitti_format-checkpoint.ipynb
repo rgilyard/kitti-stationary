{
 "cells": [
  {
   "cell_type": "markdown",
   "id": "1205155f-5f97-4b87-a301-19211276f153",
   "metadata": {},
   "source": [
    "# Stationary to KITTI format"
   ]
  },
  {
   "cell_type": "markdown",
   "id": "aef9f35d-21fc-4f2e-922e-767556db1437",
   "metadata": {},
   "source": [
    "# NEED TO ADD IMAGES AS WELL AFTER"
   ]
  },
  {
   "cell_type": "raw",
   "id": "ab9b8fde-fcd6-47b4-a2be-8962080efdd6",
   "metadata": {},
   "source": [
    "After the stationary frames are filtered.\n",
    "Need to:\n",
    "Separate into train and test set\n"
   ]
  },
  {
   "cell_type": "code",
   "execution_count": 56,
   "id": "829fa703-e08f-4e48-93aa-12366adb839e",
   "metadata": {},
   "outputs": [],
   "source": [
    "import os\n",
    "import random\n",
    "import shutil\n",
    "from pathlib import Path"
   ]
  },
  {
   "cell_type": "code",
   "execution_count": 57,
   "id": "a6fdf8c7-a618-45f6-8326-6cbe6e85b3c7",
   "metadata": {},
   "outputs": [],
   "source": [
    "# If false, two of each data will remain, in the all folder, and in the test/train splits\n",
    "delete_pre_split_folders = False"
   ]
  },
  {
   "cell_type": "code",
   "execution_count": 58,
   "id": "3733f977-76b7-4432-85bc-15aaf1243b4c",
   "metadata": {},
   "outputs": [],
   "source": [
    "DATA_DIRECTORY = '../data/'"
   ]
  },
  {
   "cell_type": "code",
   "execution_count": 59,
   "id": "7aa51cf2-eccc-463b-9a4d-4e5c978a4368",
   "metadata": {},
   "outputs": [],
   "source": [
    "# Source directories\n",
    "STATIONARY_DATA_DIR = '../stationary_data'\n",
    "SRC_LABELS_DIR = 'labels'\n",
    "SRC_IMAGE_DIR = 'images'\n",
    "SRC_UNFILTERED_DIR = 'velodyne_points'\n",
    "SRC_FILTERED_DIR = 'filtered_points'\n",
    "SRC_LABEL_FILTERD = 'roi_filtered_points'"
   ]
  },
  {
   "cell_type": "code",
   "execution_count": 60,
   "id": "a04b4acf-4b2f-429f-879f-6ae90a518bf9",
   "metadata": {},
   "outputs": [],
   "source": [
    "# Target directories\n",
    "KITTI_FORMAT_DIR = '../stationary_kitti_format_data'\n",
    "UNFILTERED_DIR = 'st_kitti_unfiltered'\n",
    "FILTERED_DIR = 'st_kitti_filtered'\n",
    "LABEL_FILTERED_DIR = 'st_kitti_label_filtered'"
   ]
  },
  {
   "cell_type": "code",
   "execution_count": 61,
   "id": "f42cac6a-894c-47f8-b963-a99d4ab75869",
   "metadata": {},
   "outputs": [],
   "source": [
    "# Target subdirectories\n",
    "ALL_DIR = 'all'\n",
    "IMAGESETS_DIR = 'ImageSets'\n",
    "TRAINING_DIR = 'training'\n",
    "TESTING_DIR = 'testing'"
   ]
  },
  {
   "cell_type": "code",
   "execution_count": 62,
   "id": "fd44bf00-387e-4fee-b2e1-22b44c35d9e5",
   "metadata": {},
   "outputs": [],
   "source": [
    "# Target subsbudirectories\n",
    "LABELS_DIR = 'label_2'\n",
    "IMAGE_DIR = 'image_2'\n",
    "VELODYNE_DIR = 'velodyne'\n",
    "CALIB_DIR = 'calib'"
   ]
  },
  {
   "cell_type": "code",
   "execution_count": 63,
   "id": "38a09cbf-1a9d-44de-9f05-e203becd29a8",
   "metadata": {},
   "outputs": [],
   "source": [
    "DATASET_DIRS = [UNFILTERED_DIR, FILTERED_DIR, LABEL_FILTERED_DIR]"
   ]
  },
  {
   "cell_type": "code",
   "execution_count": 64,
   "id": "8866fe23-2bf3-4305-9d59-347e92d3716f",
   "metadata": {},
   "outputs": [],
   "source": [
    "DATASET_SUBDIRS = [LABELS_DIR, IMAGE_DIR, VELODYNE_DIR]"
   ]
  },
  {
   "cell_type": "code",
   "execution_count": 65,
   "id": "f6ed52cf-3859-4b04-897d-cf66f8b08376",
   "metadata": {},
   "outputs": [],
   "source": [
    "PIPELINE_PAIRS = [\n",
    "    [SRC_UNFILTERED_DIR, UNFILTERED_DIR],\n",
    "    [SRC_FILTERED_DIR, FILTERED_DIR],\n",
    "    [SRC_LABEL_FILTERD, LABEL_FILTERED_DIR]\n",
    "]"
   ]
  },
  {
   "cell_type": "code",
   "execution_count": 66,
   "id": "886bc292-a00b-42cd-b6ed-f49361ab9934",
   "metadata": {},
   "outputs": [],
   "source": [
    "kitti_data_structure = {\n",
    "    'all': {\n",
    "        'image_2': {},\n",
    "        'label_2': {},\n",
    "        'velodyne': {}\n",
    "    },\n",
    "    'ImageSets': {},\n",
    "    'training': {\n",
    "        'calib': {},\n",
    "        'image_2': {},\n",
    "        'label_2': {},\n",
    "        'velodyne': {}\n",
    "    },\n",
    "    'testing': {\n",
    "        'calib': {},\n",
    "        'image_2': {},\n",
    "        'label_2': {},\n",
    "        'velodyne': {}\n",
    "    }\n",
    "}"
   ]
  },
  {
   "cell_type": "code",
   "execution_count": 67,
   "id": "0ed877a5-b0e3-4fbb-95e5-532cce4bd4ff",
   "metadata": {},
   "outputs": [],
   "source": [
    "def create_subdirectories(parent_path, subdirs):\n",
    "    for subdir, children in subdirs.items():\n",
    "        path = os.path.join(parent_path, subdir)\n",
    "        os.makedirs(path, exist_ok=True)  # Create the directory if it doesn't exist\n",
    "        create_subdirectories(path, children)  # Recursively create child directories"
   ]
  },
  {
   "cell_type": "code",
   "execution_count": 68,
   "id": "5b666216-0061-4499-9e4a-1724e511e760",
   "metadata": {},
   "outputs": [],
   "source": [
    "# Make KITTI file tree, one for unfiltered, filtered, and label filtered\n",
    "def make_file_trees(dataset_dir_name):\n",
    "    print('making file trees')\n",
    "    base_path = os.path.join(DATA_DIRECTORY, KITTI_FORMAT_DIR, dataset_dir_name)\n",
    "    os.makedirs(base_path, exist_ok=True)\n",
    "    # Start creating directories from the base path\n",
    "    create_subdirectories(base_path, kitti_data_structure)"
   ]
  },
  {
   "cell_type": "code",
   "execution_count": 69,
   "id": "cb9d9126-53ff-4364-bf31-cceaddef38ae",
   "metadata": {},
   "outputs": [],
   "source": [
    "def get_valid_file_ids(dir):\n",
    "    valid_files = []\n",
    "    # For each folder\n",
    "    session_folder = Path(dir)\n",
    "\n",
    "    # This will iterate through all the folders in the session folder\n",
    "    for data_folder in session_folder.iterdir(): \n",
    "        if data_folder.is_dir():\n",
    "            this_folder_files = []            \n",
    "            files = [f for f in os.listdir(data_folder) if f.endswith('.bin') or f.endswith('.txt') or f.endswith('.png')]\n",
    "            # For each file\n",
    "            # for filename in files[:3]:\n",
    "            for filename in files:\n",
    "                # Get the index\n",
    "                filename = os.path.basename(filename)\n",
    "                # Split the filename from the extension ('006428', '.txt')\n",
    "                file_id, extension = os.path.splitext(filename)\n",
    "                \n",
    "                this_folder_files.append(file_id)\n",
    "            \n",
    "        # Only keep the files that are in both lists\n",
    "        if len(valid_files) == 0:\n",
    "            valid_files = this_folder_files\n",
    "        else:\n",
    "            valid_files = [file for file in valid_files if file in this_folder_files]\n",
    "        \n",
    "    return valid_files"
   ]
  },
  {
   "cell_type": "code",
   "execution_count": 70,
   "id": "b331ebff-bdb9-45e9-a70f-b71df7781b75",
   "metadata": {},
   "outputs": [],
   "source": [
    "def copy_select_data(source_file, target_file):\n",
    "    shutil.copy2(source_file, target_file)"
   ]
  },
  {
   "cell_type": "code",
   "execution_count": 71,
   "id": "f464290c-adeb-4e53-9b8e-f7738c95ff98",
   "metadata": {},
   "outputs": [],
   "source": [
    "# dir is a session folder\n",
    "def _copy_files_from_stationary_to_kitti_folders(dir, current_index):\n",
    "    # List of valid files\n",
    "    valid_files = get_valid_file_ids(dir)\n",
    "\n",
    "    # If the valid files list is too short\n",
    "    if len(valid_files) < 2:\n",
    "        # Return early\n",
    "        return\n",
    "\n",
    "    # I don't think I need this because current index is passed by value\n",
    "    start_index = current_index\n",
    "\n",
    "    # TRANSFER POINT CLOUDS\n",
    "    # Keep track of index through this\n",
    "    # For each of the valid files\n",
    "    # For each transfer location pair (from, to)\n",
    "    for pair in PIPELINE_PAIRS:\n",
    "        # Create the from and to path bases\n",
    "        from_base_dir_vel = Path(dir, pair[0])\n",
    "        to_base_path_vel = Path(KITTI_FORMAT_DIR, pair[1], ALL_DIR, VELODYNE_DIR)\n",
    "\n",
    "        # For each index being transferred\n",
    "        for id in valid_files:\n",
    "            # Make the from file id\n",
    "            from_file_id = str(id).zfill(10) + '.bin'\n",
    "            # Add the current index to the file index\n",
    "            offset_id_index = int(id) + current_index\n",
    "            # Get to file_id\n",
    "            to_file_id = str(offset_id_index).zfill(6) + '.bin'\n",
    "\n",
    "            # TRANSFER POINT CLOUDS\n",
    "            # Create a from and to path bin file paths\n",
    "            from_file_path = Path(from_base_dir_vel, from_file_id)\n",
    "            to_file_path = Path(to_base_path_vel, to_file_id)\n",
    "\n",
    "            # print(from_file_path)\n",
    "            # print(to_file_path)\n",
    "            # print()\n",
    "            copy_select_data(from_file_path, to_file_path)\n",
    "\n",
    "        # TRANSFER LABELS\n",
    "        from_base_dir_lbl = Path(dir, SRC_LABELS_DIR)\n",
    "        to_base_path_lbl = Path(KITTI_FORMAT_DIR, pair[1], ALL_DIR, LABELS_DIR)\n",
    "        \n",
    "        for id in valid_files:\n",
    "            # Make the from file id\n",
    "            from_file_id = str(id).zfill(10) + '.txt'\n",
    "            # Add the current index to the file index\n",
    "            offset_id_index = int(id) + current_index\n",
    "            # Get to file_id\n",
    "            to_file_id = str(offset_id_index).zfill(6) + '.txt'\n",
    "            \n",
    "            from_file_path = Path(from_base_dir_lbl, from_file_id)\n",
    "            to_file_path = Path(to_base_path_lbl, to_file_id)\n",
    "\n",
    "            # print(from_file_path)\n",
    "            # print(to_file_path)\n",
    "            # print()\n",
    "            copy_select_data(from_file_path, to_file_path)\n",
    "\n",
    "        # TRANSFER IMAGES\n",
    "        from_base_dir_img = Path(dir, SRC_IMAGE_DIR)\n",
    "        to_base_path_img = Path(KITTI_FORMAT_DIR, pair[1], ALL_DIR, IMAGE_DIR)\n",
    "        \n",
    "        for id in valid_files:\n",
    "            # Make the from file id\n",
    "            from_file_id = str(id).zfill(10) + '.png'\n",
    "            # Add the current index to the file index\n",
    "            offset_id_index = int(id) + current_index\n",
    "            # Get to file_id\n",
    "            to_file_id = str(offset_id_index).zfill(6) + '.png'\n",
    "            \n",
    "            from_file_path = Path(from_base_dir_img, from_file_id)\n",
    "            to_file_path = Path(to_base_path_img, to_file_id)\n",
    "\n",
    "            # print(from_file_path)\n",
    "            # print(to_file_path)\n",
    "            # print()\n",
    "            copy_select_data(from_file_path, to_file_path)\n",
    "    \n",
    "    # Return the number of files processed for the offset count\n",
    "    return len(valid_files)"
   ]
  },
  {
   "cell_type": "code",
   "execution_count": 72,
   "id": "7e294c67-a7a5-4e80-9f8e-cbb064c1b251",
   "metadata": {},
   "outputs": [],
   "source": [
    "def copy_files_from_stationary_to_kitti_folders():\n",
    "    p = Path(STATIONARY_DATA_DIR)\n",
    "\n",
    "    current_index = 0\n",
    "    \n",
    "    # For each sequence (folder) in the stationary data\n",
    "    for dir in p.iterdir(): \n",
    "        if dir.is_dir():\n",
    "            print('copying from: ' + str(dir))\n",
    "            new_offset = _copy_files_from_stationary_to_kitti_folders(dir, current_index)\n",
    "            if new_offset:\n",
    "                current_index = current_index + new_offset"
   ]
  },
  {
   "cell_type": "code",
   "execution_count": 73,
   "id": "7c50c166-e122-4707-a479-7c3daf2f1c4b",
   "metadata": {},
   "outputs": [],
   "source": [
    "def save_list_to_file(list_of_files, file_name):\n",
    "    with open(file_name, 'w') as f:\n",
    "        for item in list_of_files:\n",
    "            # Split the file name at the dot and take the first part\n",
    "            # numeric_part = item.split('.')[0]\n",
    "            f.write(\"%s\\n\" % item)"
   ]
  },
  {
   "cell_type": "code",
   "execution_count": 74,
   "id": "1bfb5b1d-91f3-4f95-8589-797180277af3",
   "metadata": {},
   "outputs": [],
   "source": [
    "def make_test_train_split_txts():\n",
    "    print('making train test splits')\n",
    "    # Use the filtered data to get indices\n",
    "    template_path = Path(KITTI_FORMAT_DIR, FILTERED_DIR, ALL_DIR, VELODYNE_DIR)\n",
    "    file_list = [f for f in os.listdir(template_path) if f.endswith('.bin')]\n",
    "    \n",
    "    # Get the list of IDs from the file list\n",
    "    file_ids = [os.path.splitext(filename)[0] for filename in file_list]\n",
    "    \n",
    "    # Shuffle the list to ensure randomness\n",
    "    random.shuffle(file_ids)\n",
    "\n",
    "    # Define split proportions\n",
    "    train_split = 0.75  # 75% of the data\n",
    "    val_split = 0.1  # 10% of the data\n",
    "    test_split = 0.15  # 15% of the data\n",
    "\n",
    "    # Calculate split sizes\n",
    "    total_files = len(file_ids)\n",
    "    train_size = int(total_files * train_split)\n",
    "    val_size = int(total_files * val_split)\n",
    "\n",
    "    # Split the dataset\n",
    "    train_files = file_ids[:train_size]\n",
    "    val_files = file_ids[train_size:train_size + val_size]\n",
    "    test_files = file_ids[train_size + val_size:]\n",
    "\n",
    "    # Combine train and val for trainval\n",
    "    trainval_files = train_files + val_files\n",
    "\n",
    "    # Save for each dataset\n",
    "    for pair in PIPELINE_PAIRS:\n",
    "        save_dir = Path(KITTI_FORMAT_DIR, pair[1], IMAGESETS_DIR)\n",
    "    \n",
    "        # Save to files\n",
    "        save_list_to_file(train_files, os.path.join(save_dir, 'train.txt'))\n",
    "        save_list_to_file(val_files, os.path.join(save_dir, 'val.txt'))\n",
    "        save_list_to_file(test_files, os.path.join(save_dir, 'test.txt'))\n",
    "        save_list_to_file(trainval_files, os.path.join(save_dir, 'trainval.txt'))"
   ]
  },
  {
   "cell_type": "code",
   "execution_count": 75,
   "id": "817b329c-3228-412c-91ae-a14ade75e321",
   "metadata": {},
   "outputs": [],
   "source": [
    "def copy_files_using_txt(dataset, test_or_train, file_list_path):\n",
    "    # With the txt file\n",
    "    # Copy files with a matching index from the all to the target dataset dir\n",
    "    # Copy over velodyne files, labels, and images\n",
    "    for subdir in DATASET_SUBDIRS:\n",
    "        # Files to copy\n",
    "        with open(file_list_path, 'r') as file:\n",
    "            file_ids = {os.path.splitext(line.strip())[0] for line in file}\n",
    "\n",
    "        # Make 'from' directory path\n",
    "        from_dir = Path(KITTI_FORMAT_DIR, dataset, ALL_DIR, subdir)\n",
    "        # Make 'to' directory path\n",
    "        to_dir = Path(KITTI_FORMAT_DIR, dataset, test_or_train, subdir)\n",
    "\n",
    "        # Get file extension\n",
    "        file_extension = next(from_dir.iterdir()).suffix\n",
    "        \n",
    "        # For each file id in the .txt file\n",
    "        for file_id in file_ids:\n",
    "            # Verify that the corresponding file is in the from path\n",
    "            from_file = Path(from_dir, file_id + file_extension)\n",
    "            # Make 'from' and 'to' file paths\n",
    "            if from_file.exists():\n",
    "                # Copy the file over\n",
    "                to_file = Path(to_dir, file_id + file_extension)\n",
    "                copy_select_data(from_file, to_file)\n",
    "\n",
    "    # Copy over calibration files\n",
    "    # Make the calibration source path\n",
    "    calib_source = Path(DATA_DIRECTORY, CALIB_DIR, '000000.txt')\n",
    "    # For each file_id in the list\n",
    "    with open(file_list_path, 'r') as file:\n",
    "        file_ids = {os.path.splitext(line.strip())[0] for line in file}\n",
    "\n",
    "        for file_id in file_ids:\n",
    "            # Make a 'to' .txt file\n",
    "            to_file = Path(KITTI_FORMAT_DIR, dataset, test_or_train, CALIB_DIR, file_id + '.txt')\n",
    "            # Copy the file over\n",
    "            copy_select_data(calib_source, to_file)\n"
   ]
  },
  {
   "cell_type": "code",
   "execution_count": 76,
   "id": "27e3bb63-1275-4ccc-8ff2-58ae000b9325",
   "metadata": {},
   "outputs": [],
   "source": [
    "def copy_to_test_train():\n",
    "    # For each dataset, copy from all to train and test\n",
    "    for dataset in DATASET_DIRS:\n",
    "        print('transferring train and test files for: ' + dataset)\n",
    "        # Copy over the train files\n",
    "        # train_dir = Path(KITTI_FORMAT_DIR, dataset, TRAINING_DIR)\n",
    "        train_file_list_path = Path(KITTI_FORMAT_DIR, dataset, IMAGESETS_DIR, 'trainval.txt')\n",
    "        copy_files_using_txt(dataset, TRAINING_DIR, train_file_list_path)\n",
    "        \n",
    "        # Copy over the test files\n",
    "        # test_dir = Path(KITTI_FORMAT_DIR, dataset, TESTING_DIR)\n",
    "        test_file_list_path = Path(KITTI_FORMAT_DIR, dataset, IMAGESETS_DIR, 'test.txt')\n",
    "        copy_files_using_txt(dataset, TESTING_DIR, test_file_list_path)"
   ]
  },
  {
   "cell_type": "code",
   "execution_count": 77,
   "id": "38b93b08-de14-440d-a4aa-fe0dd48ce6d2",
   "metadata": {},
   "outputs": [],
   "source": [
    "def convert_to_kitti_format():   \n",
    "    # Make KITTI file tree, one for unfiltered, filtered, and label filtered\n",
    "    for dataset_dir in DATASET_DIRS:\n",
    "        make_file_trees(dataset_dir)\n",
    "    \n",
    "    copy_files_from_stationary_to_kitti_folders()\n",
    "\n",
    "    make_test_train_split_txts()\n",
    "\n",
    "    copy_to_test_train()\n",
    "\n",
    "    if delete_pre_split_folders:\n",
    "        # This is not implemented yet\n",
    "        delete_duplicate_data()"
   ]
  },
  {
   "cell_type": "code",
   "execution_count": 78,
   "id": "219fb0f7-f8e0-4459-b5fd-a958da81adc3",
   "metadata": {},
   "outputs": [
    {
     "name": "stdout",
     "output_type": "stream",
     "text": [
      "making file trees\n",
      "making file trees\n",
      "making file trees\n",
      "copying from: ..\\stationary_data\\2011_09_26_drive_0017_sync_0_to_113\n",
      "copying from: ..\\stationary_data\\2011_09_26_drive_0018_sync_0_to_178\n",
      "copying from: ..\\stationary_data\\2011_09_26_drive_0051_sync_210_to_210\n",
      "copying from: ..\\stationary_data\\2011_09_26_drive_0051_sync_224_to_360\n",
      "copying from: ..\\stationary_data\\2011_09_26_drive_0060_sync_0_to_77\n",
      "copying from: ..\\stationary_data\\2011_09_26_drive_0009_sync_404_to_404\n",
      "copying from: ..\\stationary_data\\2011_09_26_drive_0009_sync_422_to_446\n",
      "copying from: ..\\stationary_data\\2011_09_26_drive_0011_sync_167_to_232\n",
      "copying from: ..\\stationary_data\\2011_09_26_drive_0059_sync_239_to_245\n",
      "copying from: ..\\stationary_data\\2011_09_26_drive_0079_sync_93_to_99\n",
      "copying from: ..\\stationary_data\\2011_09_26_drive_0084_sync_0_to_47\n",
      "copying from: ..\\stationary_data\\2011_09_26_drive_0086_sync_696_to_696\n",
      "copying from: ..\\stationary_data\\2011_09_26_drive_0086_sync_700_to_700\n",
      "copying from: ..\\stationary_data\\2011_09_26_drive_0029_sync_206_to_260\n",
      "making train test splits\n",
      "transferring train and test files for: st_kitti_unfiltered\n",
      "transferring train and test files for: st_kitti_filtered\n",
      "transferring train and test files for: st_kitti_label_filtered\n"
     ]
    }
   ],
   "source": [
    "convert_to_kitti_format()"
   ]
  }
 ],
 "metadata": {
  "kernelspec": {
   "display_name": "Python 3 (ipykernel)",
   "language": "python",
   "name": "python3"
  },
  "language_info": {
   "codemirror_mode": {
    "name": "ipython",
    "version": 3
   },
   "file_extension": ".py",
   "mimetype": "text/x-python",
   "name": "python",
   "nbconvert_exporter": "python",
   "pygments_lexer": "ipython3",
   "version": "3.11.9"
  }
 },
 "nbformat": 4,
 "nbformat_minor": 5
}

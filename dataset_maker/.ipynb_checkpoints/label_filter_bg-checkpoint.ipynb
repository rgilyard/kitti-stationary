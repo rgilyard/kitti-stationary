{
 "cells": [
  {
   "cell_type": "markdown",
   "id": "164a5164-8be7-4eaf-9525-35acfed5b480",
   "metadata": {},
   "source": [
    "# Filter the points outside of the ROI"
   ]
  },
  {
   "cell_type": "code",
   "execution_count": 76,
   "id": "91d6e9d3-650c-45c5-9eb7-0a4a3355b14e",
   "metadata": {},
   "outputs": [],
   "source": [
    "import os\n",
    "import pandas as pd\n",
    "import numpy as np\n",
    "from pathlib import Path"
   ]
  },
  {
   "cell_type": "markdown",
   "id": "a0faa570-c641-48ce-a69f-a00249f0320e",
   "metadata": {},
   "source": [
    "## Constants"
   ]
  },
  {
   "cell_type": "code",
   "execution_count": 78,
   "id": "21ad96f3-6ed1-4901-b9ba-f477ea476fcc",
   "metadata": {},
   "outputs": [],
   "source": [
    "DATA_DIR_ROOT = '../stationary_data'"
   ]
  },
  {
   "cell_type": "code",
   "execution_count": 79,
   "id": "dd9fc08a-d910-483e-a16c-68561b2d5532",
   "metadata": {},
   "outputs": [],
   "source": [
    "def point_is_in_an_roi_box(point, roi_box_list):\n",
    "    # Extract the point coordinates\n",
    "    x, y, z = point\n",
    "    \n",
    "    for bbox in roi_box_list:\n",
    "        # Extract the box parameters\n",
    "        # dz, dy, dx, cx, cy, cz, yaw = bbox\n",
    "        dx, dy, dz, cx, cy, cz, yaw = bbox\n",
    "        \n",
    "        \n",
    "        # Create the rotation matrix for the yaw angle\n",
    "        cos_yaw = np.cos(-yaw)  # Negative for the inverse rotation\n",
    "        sin_yaw = np.sin(-yaw)\n",
    "        \n",
    "        rotation_matrix = np.array([\n",
    "            [cos_yaw, -sin_yaw, 0],\n",
    "            [sin_yaw,  cos_yaw, 0],\n",
    "            [0,       0,       1]\n",
    "        ])\n",
    "        \n",
    "        # Translate the point to the box's coordinate frame\n",
    "        translated_point = np.array([x - cx, y - cy, z - cz])\n",
    "        \n",
    "        # Rotate the point to align with the box\n",
    "        rotated_point = rotation_matrix.dot(translated_point)\n",
    "        \n",
    "        # Check if the point is within the box dimensions\n",
    "        half_lengths = [dz / 2, dy / 2, dx / 2]\n",
    "        in_box = all([\n",
    "            -half_lengths[i] <= rotated_point[i] <= half_lengths[i] for i in range(3)\n",
    "        ])\n",
    "    \n",
    "        if in_box:\n",
    "            return True\n",
    "    \n",
    "    return False"
   ]
  },
  {
   "cell_type": "code",
   "execution_count": 80,
   "id": "9b794626-b24c-4d17-9529-3b30539dc857",
   "metadata": {},
   "outputs": [],
   "source": [
    "def get_roi_boxes(label_file):\n",
    "    bboxes = []\n",
    "    with open(label_file, 'r') as file:\n",
    "        for line in file:\n",
    "            parts = line.strip().split()\n",
    "            bbox = [float(value) for value in parts[8:15]]  # Extract the bounding box dimensions and location\n",
    "            bboxes.append(bbox)\n",
    "    return np.array(bboxes)\n",
    "    # dz, dy, dx, x, y, z, yaw = bbox"
   ]
  },
  {
   "cell_type": "code",
   "execution_count": 81,
   "id": "2497fdec-d470-43f0-b591-e56d89426a65",
   "metadata": {},
   "outputs": [],
   "source": [
    "def convert_to_dataframe(bin_path):\n",
    "    pre_filtered_data = np.fromfile(bin_path, dtype=np.float32).reshape(-1, 4) \n",
    "    columns = ['x', 'y', 'z', 'intensity']\n",
    "    df = pd.DataFrame(pre_filtered_data, columns=columns)\n",
    "    return df"
   ]
  },
  {
   "cell_type": "code",
   "execution_count": 82,
   "id": "5226a5ba-cece-4981-a8ce-426015a8ae57",
   "metadata": {},
   "outputs": [],
   "source": [
    "def roi_filter_points(input_file, label_file):\n",
    "    # Get dataframe from input file\n",
    "    input_df = convert_to_dataframe(input_file)\n",
    "    list_roi_boxes = get_roi_boxes(label_file)\n",
    "    print(list_roi_boxes)\n",
    "    \n",
    "    # Initialize a list to store rows that meet the criteria\n",
    "    filtered_data = []\n",
    "\n",
    "    # Iterate through each row in the input DataFrame\n",
    "    for index, row in input_df.iterrows():\n",
    "    # for index, row in input_df.iloc[:3].iterrows():\n",
    "        point = (row['x'], row['y'], row['z'])\n",
    "        # Check if the point is inside any of the ROI boxes\n",
    "        if point_is_in_an_roi_box(point, list_roi_boxes):\n",
    "            filtered_data.append(row)\n",
    "        \n",
    "\n",
    "    # Create a DataFrame from the filtered data\n",
    "    filtered_df = pd.DataFrame(filtered_data)\n",
    "    return filtered_df"
   ]
  },
  {
   "cell_type": "code",
   "execution_count": 83,
   "id": "603cda6a-0752-44e6-a958-874ea1607193",
   "metadata": {},
   "outputs": [],
   "source": [
    "def save_as_binary(df, bin_path):\n",
    "    # Ensure the DataFrame is in the correct order and data type\n",
    "    data = df[['x', 'y', 'z', 'intensity']].astype(np.float32).values\n",
    "    \n",
    "    # Write the data to a binary file\n",
    "    data.tofile(bin_path)"
   ]
  },
  {
   "cell_type": "code",
   "execution_count": 84,
   "id": "82188600-4622-4a4d-a760-75286cf09f87",
   "metadata": {},
   "outputs": [],
   "source": [
    "def process_directory(dir):\n",
    "    print(dir)\n",
    "    # Make new folder for filtered frames\n",
    "    new_save_location = Path(dir, 'roi_filtered_points')\n",
    "    new_save_location.mkdir(exist_ok=True)\n",
    "\n",
    "    # Original frame path\n",
    "    lidar_dir = Path(dir, 'velodyne_points')\n",
    "    label_dir = Path(dir, 'labels')\n",
    "    \n",
    "    # Get just the file names\n",
    "    files = [f for f in os.listdir(lidar_dir) if f.endswith('.bin')]\n",
    "    # For each file\n",
    "    # for filename in files[:3]:\n",
    "    for filename in files[:3]:\n",
    "        print('.', end='')\n",
    "        # Append file name to location\n",
    "        from_file = Path(lidar_dir, filename)\n",
    "        label_file = Path(label_dir, filename[:-4] + '.txt')\n",
    "\n",
    "        # Filter file\n",
    "        # SEND BOTH BIN AND LABELS\n",
    "        roi_filtered_df = roi_filter_points(from_file, label_file)\n",
    "\n",
    "        # APPEND FILE NAME TO NEW LOCATION\n",
    "        to_file = Path(new_save_location, filename)\n",
    "\n",
    "        # CONVERT BACK TO BINARY and save\n",
    "        save_as_binary(roi_filtered_df, to_file)\n",
    "\n",
    "    print()\n",
    "    print()"
   ]
  },
  {
   "cell_type": "code",
   "execution_count": 85,
   "id": "adf82909-88a4-4154-8208-c56d588aa288",
   "metadata": {},
   "outputs": [],
   "source": [
    "def filter_by_roi():\n",
    "    # For each folder in the stationary data directory\n",
    "    p = Path(DATA_DIR_ROOT)\n",
    "    \n",
    "    # For each sequence (folder) in the stationary data\n",
    "    for dir in p.iterdir(): \n",
    "        if dir.is_dir():\n",
    "            process_directory(dir)\n",
    "            "
   ]
  },
  {
   "cell_type": "code",
   "execution_count": 86,
   "id": "d0b000fb-8a53-424b-b3ad-24589ee1982a",
   "metadata": {},
   "outputs": [
    {
     "name": "stdout",
     "output_type": "stream",
     "text": [
      "..\\stationary_data\\2011_09_26_drive_0017_sync_0_to_113\n",
      ".[[ 1.73  1.83  4.16 13.06 -4.   -1.6  -1.75]\n",
      " [ 1.55  1.66  3.37 16.68 14.34 -1.45 -1.73]]\n",
      ".[[ 1.73  1.83  4.16 12.87 -4.92 -1.61 -1.75]\n",
      " [ 1.55  1.66  3.37 16.5  13.24 -1.46 -1.73]]\n",
      ".[[ 1.73  1.83  4.16 12.65 -6.   -1.62 -1.75]\n",
      " [ 1.55  1.66  3.37 16.31 12.14 -1.47 -1.73]]\n",
      "\n",
      "\n",
      "..\\stationary_data\\2011_09_26_drive_0018_sync_0_to_178\n",
      ".[[ 1.42  1.47  3.52 12.09  3.26 -1.59 -3.93]]\n",
      ".[[ 1.42  1.47  3.52 11.39  3.9  -1.56 -3.87]]\n",
      ".[[ 1.42  1.47  3.52 10.6   4.53 -1.57 -3.81]]\n",
      "\n",
      "\n",
      "..\\stationary_data\\2011_09_26_drive_0051_sync_210_to_210\n",
      ".[[ 1.35  1.6   3.86 40.11 -3.15 -1.11 -0.3 ]\n",
      " [ 2.08  2.05  4.96 42.94 -7.19 -0.95 -0.23]\n",
      " [ 1.32  1.48  4.44 15.72  4.31 -1.45 -0.33]\n",
      " [ 2.3   1.87  5.7  33.88  8.14 -1.47 -3.3 ]\n",
      " [ 1.44  1.54  3.15 22.73 10.21 -1.68 -3.37]\n",
      " [ 4.02  2.6  16.79 60.72  5.25 -1.4  -3.18]\n",
      " [ 1.49  1.56  3.65 55.56 -6.92 -0.98 -0.23]]\n",
      "\n",
      "\n",
      "..\\stationary_data\\2011_09_26_drive_0051_sync_224_to_360\n",
      ".[[  1.35   1.6    3.86  51.9   -6.21  -1.03  -0.24]\n",
      " [  2.08   2.05   4.96  61.76 -11.73  -0.84  -0.18]\n",
      " [  1.32   1.48   4.44  25.47   1.18  -1.33  -0.33]\n",
      " [  2.3    1.87   5.7   22.6   10.17  -1.63  -3.37]\n",
      " [  4.02   2.6   16.79  48.91   6.34  -1.6   -3.24]]\n",
      ".[[  1.35   1.6    3.86  52.75  -6.4   -1.03  -0.23]\n",
      " [  2.08   2.05   4.96  63.11 -12.    -0.83  -0.18]\n",
      " [  1.32   1.48   4.44  26.18   0.96  -1.32  -0.33]\n",
      " [  2.3    1.87   5.7   21.81  10.32  -1.64  -3.39]\n",
      " [  4.02   2.6   16.79  47.95   6.42  -1.6   -3.24]]\n",
      ".[[  1.35   1.6    3.86  53.59  -6.58  -1.02  -0.22]\n",
      " [  2.08   2.05   4.96  64.47 -12.26  -0.82  -0.17]\n",
      " [  1.32   1.48   4.44  26.89   0.73  -1.3   -0.33]\n",
      " [  2.3    1.87   5.7   21.02  10.47  -1.65  -3.4 ]\n",
      " [  4.02   2.6   16.79  46.93   6.5   -1.67  -3.24]]\n",
      "\n",
      "\n",
      "..\\stationary_data\\2011_09_26_drive_0060_sync_0_to_77\n",
      ".[[ 1.73  0.62  1.83 12.63  0.07 -1.57 -1.46]\n",
      " [ 1.48  1.8   4.31 31.19  4.14 -1.53 -1.59]\n",
      " [ 1.69  1.88  4.5  48.82 -4.16 -1.81 -3.31]]\n",
      ".[[ 1.73  0.62  1.83 12.69 -0.24 -1.57 -1.46]\n",
      " [ 1.48  1.8   4.31 31.25  3.6  -1.53 -1.55]\n",
      " [ 1.69  1.88  4.5  48.82 -4.16 -1.81 -3.31]]\n",
      ".[[ 1.73  0.62  1.83 12.75 -0.55 -1.57 -1.46]\n",
      " [ 1.48  1.8   4.31 31.31  3.06 -1.52 -1.51]\n",
      " [ 1.69  1.88  4.5  48.82 -4.16 -1.81 -3.31]]\n",
      "\n",
      "\n"
     ]
    }
   ],
   "source": [
    "filter_by_roi()"
   ]
  }
 ],
 "metadata": {
  "kernelspec": {
   "display_name": "Python 3 (ipykernel)",
   "language": "python",
   "name": "python3"
  },
  "language_info": {
   "codemirror_mode": {
    "name": "ipython",
    "version": 3
   },
   "file_extension": ".py",
   "mimetype": "text/x-python",
   "name": "python",
   "nbconvert_exporter": "python",
   "pygments_lexer": "ipython3",
   "version": "3.11.9"
  }
 },
 "nbformat": 4,
 "nbformat_minor": 5
}

{
 "cells": [
  {
   "cell_type": "markdown",
   "id": "deebde95-4cf5-4d87-a48d-160dbfd87f48",
   "metadata": {},
   "source": [
    "Stationary Dataset Creation\n",
    "from the KITTI dataset\n",
    "In my data folder, there are other folders from the KITTI dataset.\n",
    "Each of those folders is of a sequence. For each sequence, there is a folder for\n",
    "- image_00: black and white images from camera 1\n",
    "- image_01: black and white images from camera 2\n",
    "- image_02: color images from camera 1\n",
    "- image_03: color images from camera 2\n",
    "- oxts: Oxford Technical Solutions - the gps and positional data for the vehicle.\n",
    "- velodyne_points: the lidar frames from the sequence\n",
    "- tracklet_labels.xml: the labels for the lidar"
   ]
  },
  {
   "cell_type": "markdown",
   "id": "45ef0628-9dee-471b-b118-64fca68bbc0a",
   "metadata": {},
   "source": [
    "What I would like to end up with:\n",
    "- The data in kitti format. Images, lidar frames, labels, and camera images\n",
    "(by the way, I would hacve the calibration data for this)."
   ]
  },
  {
   "cell_type": "markdown",
   "id": "733dcaf1-c245-4aef-9456-7b3fc36423f8",
   "metadata": {},
   "source": [
    "Intermediate data:\n",
    "- for each sequence folder, I would like to make a folder for each stationary sequence.\n",
    "- Each one of those folders contains \n",
    "    - a set of images, starting from 00000000.\n",
    "    - a set of corresponding original lidar frames\n",
    "    - a set of filtered lidar frames\n",
    "    - (later) a set of labeled points frames\n",
    "    - corresponding labels for each frame"
   ]
  },
  {
   "cell_type": "markdown",
   "id": "8478f7af-69a6-4bd0-9603-64d0e10dc3bf",
   "metadata": {},
   "source": []
  }
 ],
 "metadata": {
  "kernelspec": {
   "display_name": "Python 3 (ipykernel)",
   "language": "python",
   "name": "python3"
  },
  "language_info": {
   "codemirror_mode": {
    "name": "ipython",
    "version": 3
   },
   "file_extension": ".py",
   "mimetype": "text/x-python",
   "name": "python",
   "nbconvert_exporter": "python",
   "pygments_lexer": "ipython3",
   "version": "3.11.3"
  }
 },
 "nbformat": 4,
 "nbformat_minor": 5
}

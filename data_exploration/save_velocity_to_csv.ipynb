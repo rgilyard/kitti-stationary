{
 "cells": [
  {
   "cell_type": "markdown",
   "id": "0226eac4-e2c8-4dbf-8ce0-d4aaffe8e200",
   "metadata": {},
   "source": [
    "# Get location data from oxts files and save to csv for viewing"
   ]
  },
  {
   "cell_type": "code",
   "execution_count": 12,
   "id": "8ca03929-e9d0-4354-910f-83ebec940a63",
   "metadata": {
    "tags": []
   },
   "outputs": [],
   "source": [
    "import pandas as pd\n",
    "import numpy as np\n",
    "import os"
   ]
  },
  {
   "cell_type": "code",
   "execution_count": 13,
   "id": "1ada99c7-245c-4890-a67a-160ee660a3cb",
   "metadata": {
    "tags": []
   },
   "outputs": [],
   "source": [
    "def get_data_from_dir(directory):\n",
    "    data = []\n",
    "    # Loop through each file in the directory\n",
    "    for filename in os.listdir(directory):\n",
    "        if filename.endswith('.txt'):\n",
    "            # Extract the numeric part of the filename and convert it to integer\n",
    "            file_index = int(filename.split('.')[0])  # Removes the extension and converts to int\n",
    "            filepath = os.path.join(directory, filename)\n",
    "            with open(filepath, 'r') as file:\n",
    "                values = file.read().strip().split()\n",
    "                values = [float(value) for value in values]  # Convert each value to float\n",
    "                data.append([file_index] + values)  # Add file index and values to data list\n",
    "    return data"
   ]
  },
  {
   "cell_type": "markdown",
   "id": "4337ebac-a907-45c9-8d7b-d56e67d0685b",
   "metadata": {},
   "source": [
    "## Load data"
   ]
  },
  {
   "cell_type": "code",
   "execution_count": 14,
   "id": "37df6a9c-3c2a-4e47-9280-f88c4d4e7efd",
   "metadata": {
    "tags": []
   },
   "outputs": [],
   "source": [
    "# Load data\n",
    "directory = '../data/2011_09_26_drive_0018_sync/oxts/data'\n",
    "data = get_data_from_dir(directory)"
   ]
  },
  {
   "cell_type": "code",
   "execution_count": 15,
   "id": "29562ba2-f8a3-4b8e-a204-67379eb1cfaf",
   "metadata": {
    "tags": []
   },
   "outputs": [],
   "source": [
    "columns = [\n",
    "    'file_index', 'lat', 'lon', 'alt', 'roll', 'pitch', 'yaw', \n",
    "    'vn', 've', 'vf', 'vl', 'vu', 'ax', 'ay', 'az', 'af', \n",
    "    'al', 'au', 'wx', 'wy', 'wz', 'wf', 'wl', 'wu', \n",
    "    'pos_accuracy', 'vel_accuracy', 'navstat', 'numsats', \n",
    "    'posmode', 'velmode', 'orimode'\n",
    "]\n",
    "df = pd.DataFrame(data, columns=columns)"
   ]
  },
  {
   "cell_type": "markdown",
   "id": "01512124-aa9d-494e-939a-76f1c1e749bb",
   "metadata": {},
   "source": [
    "## Save data"
   ]
  },
  {
   "cell_type": "code",
   "execution_count": 16,
   "id": "77e08c37-a227-411c-881b-ed81c7aadcbb",
   "metadata": {},
   "outputs": [
    {
     "name": "stdout",
     "output_type": "stream",
     "text": [
      "Data saved to data.csv.\n"
     ]
    }
   ],
   "source": [
    "# Save the velocity DataFrame to a CSV file\n",
    "csv_filename = 'data.csv'\n",
    "df = df.sort_values(by='file_index')\n",
    "df.to_csv(csv_filename, index=False)\n",
    "\n",
    "print(f\"Data saved to {csv_filename}.\")"
   ]
  },
  {
   "cell_type": "markdown",
   "id": "f4bc62de-7787-4afa-90fb-685f319b89b5",
   "metadata": {},
   "source": [
    "## Save velocity data"
   ]
  },
  {
   "cell_type": "code",
   "execution_count": 17,
   "id": "ba5b59e8-f4c1-4385-8d05-db0b2a2ebb49",
   "metadata": {
    "tags": []
   },
   "outputs": [
    {
     "name": "stdout",
     "output_type": "stream",
     "text": [
      "Velocity data saved to velocity_data.csv.\n"
     ]
    }
   ],
   "source": [
    "# Select the velocity columns along with the file index\n",
    "velocity_data = df[['file_index', 'vn', 've', 'vf', 'vl', 'vu']]\n",
    "\n",
    "# Save the velocity DataFrame to a CSV file\n",
    "csv_filename = 'velocity_data.csv'\n",
    "velocity_data = velocity_data.sort_values(by='file_index')\n",
    "velocity_data.to_csv(csv_filename, index=False)\n",
    "\n",
    "print(f\"Velocity data saved to {csv_filename}.\")"
   ]
  }
 ],
 "metadata": {
  "kernelspec": {
   "display_name": "Python 3 (ipykernel)",
   "language": "python",
   "name": "python3"
  },
  "language_info": {
   "codemirror_mode": {
    "name": "ipython",
    "version": 3
   },
   "file_extension": ".py",
   "mimetype": "text/x-python",
   "name": "python",
   "nbconvert_exporter": "python",
   "pygments_lexer": "ipython3",
   "version": "3.11.3"
  }
 },
 "nbformat": 4,
 "nbformat_minor": 5
}

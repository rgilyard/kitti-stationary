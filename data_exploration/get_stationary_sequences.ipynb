{
 "cells": [
  {
   "cell_type": "markdown",
   "id": "eba45353-051d-4c88-82d9-65020d2d0aa0",
   "metadata": {},
   "source": [
    "# Get stationary sequences from kitti scene"
   ]
  },
  {
   "cell_type": "code",
   "execution_count": 46,
   "id": "c7f2957d-d367-4e70-9eb3-023e46f488f1",
   "metadata": {
    "tags": []
   },
   "outputs": [],
   "source": [
    "import pandas as pd\n",
    "import numpy as np\n",
    "import os"
   ]
  },
  {
   "cell_type": "code",
   "execution_count": 47,
   "id": "26c73759-fa76-4c4c-ba05-29e624c370d9",
   "metadata": {
    "tags": []
   },
   "outputs": [],
   "source": [
    "def get_data_from_dir(directory):\n",
    "    data = []\n",
    "    # Loop through each file in the directory\n",
    "    for filename in os.listdir(directory):\n",
    "        if filename.endswith('.txt'):\n",
    "            # Extract the numeric part of the filename and convert it to integer\n",
    "            file_index = int(filename.split('.')[0])  # Removes the extension and converts to int\n",
    "            filepath = os.path.join(directory, filename)\n",
    "            with open(filepath, 'r') as file:\n",
    "                values = file.read().strip().split()\n",
    "                values = [float(value) for value in values]  # Convert each value to float\n",
    "                data.append([file_index] + values)  # Add file index and values to data list\n",
    "    return data"
   ]
  },
  {
   "cell_type": "markdown",
   "id": "aa1428b0-67e0-4d2f-9757-eb25b47edb6d",
   "metadata": {},
   "source": [
    "## Load data"
   ]
  },
  {
   "cell_type": "code",
   "execution_count": 48,
   "id": "9bc24be6-1243-40e5-a0b4-5fe5201d5f98",
   "metadata": {
    "tags": []
   },
   "outputs": [],
   "source": [
    "# Load data\n",
    "directory = '../data/2011_09_26_drive_0018_sync/oxts/data'\n",
    "data = get_data_from_dir(directory)"
   ]
  },
  {
   "cell_type": "code",
   "execution_count": 49,
   "id": "ed82ab41-e8a3-40f2-bcdd-7c230322f3bb",
   "metadata": {
    "tags": []
   },
   "outputs": [],
   "source": [
    "columns = [\n",
    "    'file_index', 'lat', 'lon', 'alt', 'roll', 'pitch', 'yaw', \n",
    "    'vn', 've', 'vf', 'vl', 'vu', 'ax', 'ay', 'az', 'af', \n",
    "    'al', 'au', 'wx', 'wy', 'wz', 'wf', 'wl', 'wu', \n",
    "    'pos_accuracy', 'vel_accuracy', 'navstat', 'numsats', \n",
    "    'posmode', 'velmode', 'orimode'\n",
    "]\n",
    "df = pd.DataFrame(data, columns=columns)"
   ]
  },
  {
   "cell_type": "markdown",
   "id": "207d4c98-bae8-461e-8fe3-b3bdb022812b",
   "metadata": {},
   "source": [
    "## Get velocity data"
   ]
  },
  {
   "cell_type": "code",
   "execution_count": 50,
   "id": "8d30072b-f3e8-4863-a412-f6c35cb83b42",
   "metadata": {
    "tags": []
   },
   "outputs": [],
   "source": [
    "# Identify stationary frames\n",
    "velocity_columns = ['vn', 've', 'vf', 'vl', 'vu']\n",
    "# Set 'file_index' as the index of the DataFrame\n",
    "df.set_index('file_index', inplace=True)\n",
    "df.sort_index(inplace=True)  # Ensure the DataFrame is sorted by index\n",
    "stationary_threshold = 0.05"
   ]
  },
  {
   "cell_type": "markdown",
   "id": "9a88fc03-34e1-4057-9c3b-e4078f11cb43",
   "metadata": {},
   "source": [
    "## Filter for stationary frames"
   ]
  },
  {
   "cell_type": "code",
   "execution_count": 51,
   "id": "9e7c9af3-e6c1-456b-90e8-7590b4dfb3fd",
   "metadata": {
    "tags": []
   },
   "outputs": [],
   "source": [
    "# Boolean series to identify stationary frames\n",
    "is_stationary = df[velocity_columns].abs().max(axis=1) < stationary_threshold"
   ]
  },
  {
   "cell_type": "markdown",
   "id": "19db5d44-6dc9-4829-91d7-52908e587c84",
   "metadata": {},
   "source": [
    "## Get stationary sequences"
   ]
  },
  {
   "cell_type": "code",
   "execution_count": 52,
   "id": "55b8526d-f5b0-460e-ae30-dbe0a692ddf2",
   "metadata": {
    "tags": []
   },
   "outputs": [],
   "source": [
    "# Find sequences of consecutive stationary frames\n",
    "sequences = []\n",
    "current_sequence = []\n",
    "for i in df[is_stationary].index:\n",
    "    if current_sequence and i == current_sequence[-1] + 1:\n",
    "        current_sequence.append(i)\n",
    "    else:\n",
    "        if current_sequence:\n",
    "            sequences.append((current_sequence[0], current_sequence[-1]))\n",
    "        current_sequence = [i]\n",
    "        \n",
    "# Append the last sequence if it ended at the last index\n",
    "if current_sequence:\n",
    "    sequences.append((current_sequence[0], current_sequence[-1]))"
   ]
  },
  {
   "cell_type": "code",
   "execution_count": 53,
   "id": "49bd5c95-b1b0-474c-acc0-7943534afae5",
   "metadata": {
    "tags": []
   },
   "outputs": [
    {
     "name": "stdout",
     "output_type": "stream",
     "text": [
      "Stationary sequence from frame 0 to frame 178\n"
     ]
    }
   ],
   "source": [
    "# Print the sequences\n",
    "for start, end in sequences:\n",
    "    print(f\"Stationary sequence from frame {start} to frame {end}\")"
   ]
  },
  {
   "cell_type": "code",
   "execution_count": 55,
   "id": "5ae3ba0d-da54-4526-83bd-c4ac6a311688",
   "metadata": {
    "tags": []
   },
   "outputs": [],
   "source": [
    "# # Optionally, if you want to see more details about each sequence:\n",
    "# for start, end in sequences:\n",
    "#     print(df.loc[start:end, velocity_columns + ['file_index']])"
   ]
  },
  {
   "cell_type": "code",
   "execution_count": null,
   "id": "0c3d0c49-28b9-4816-bdb0-bc2767a006b5",
   "metadata": {},
   "outputs": [],
   "source": []
  },
  {
   "cell_type": "code",
   "execution_count": null,
   "id": "f00f70ef-ac9e-4212-958a-5cadad9e4488",
   "metadata": {},
   "outputs": [],
   "source": []
  },
  {
   "cell_type": "code",
   "execution_count": null,
   "id": "19c0f897-b3f7-4368-80d6-b43ca4161ccd",
   "metadata": {},
   "outputs": [],
   "source": []
  },
  {
   "cell_type": "code",
   "execution_count": null,
   "id": "d42da0cf-afe4-44b9-b994-b309dbea9223",
   "metadata": {},
   "outputs": [],
   "source": []
  }
 ],
 "metadata": {
  "kernelspec": {
   "display_name": "Python 3 (ipykernel)",
   "language": "python",
   "name": "python3"
  },
  "language_info": {
   "codemirror_mode": {
    "name": "ipython",
    "version": 3
   },
   "file_extension": ".py",
   "mimetype": "text/x-python",
   "name": "python",
   "nbconvert_exporter": "python",
   "pygments_lexer": "ipython3",
   "version": "3.11.3"
  }
 },
 "nbformat": 4,
 "nbformat_minor": 5
}

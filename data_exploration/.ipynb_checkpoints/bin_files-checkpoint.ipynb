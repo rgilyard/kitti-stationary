{
 "cells": [
  {
   "cell_type": "markdown",
   "id": "0088013a",
   "metadata": {},
   "source": [
    "# Inspect .bin and .pcd files to see what the difference is\n",
    "Try to get a background map from stationary sequence"
   ]
  },
  {
   "cell_type": "markdown",
   "id": "6706bcba",
   "metadata": {},
   "source": [
    "## First inspect .bin file (taken from mmdet3d demo)\n",
    "Assuming it’s a typical LiDAR .bin file with points as [x, y, z, intensity, ...]\n",
    "This file has worked in the model for me. It has probably been preprocessed."
   ]
  },
  {
   "cell_type": "code",
   "execution_count": 18,
   "id": "d8501c84",
   "metadata": {
    "tags": []
   },
   "outputs": [],
   "source": [
    "import numpy as np\n",
    "import matplotlib.pyplot as plt"
   ]
  },
  {
   "cell_type": "code",
   "execution_count": 19,
   "id": "134eef9f",
   "metadata": {
    "tags": []
   },
   "outputs": [],
   "source": [
    "# Define the path to .bin file\n",
    "bin_file_path = '../data/2011_09_26_drive_0017_sync/velodyne_points/data/0000000000.bin'"
   ]
  },
  {
   "cell_type": "code",
   "execution_count": 20,
   "id": "1faf4f32",
   "metadata": {
    "tags": []
   },
   "outputs": [],
   "source": [
    "# Assuming the structure is x, y, z, intensity\n",
    "num_points = 4\n",
    "data = np.fromfile(bin_file_path, dtype=np.float32)\n",
    "bin_points = data.reshape(-1, num_points)"
   ]
  },
  {
   "cell_type": "code",
   "execution_count": 21,
   "id": "79a969d6",
   "metadata": {
    "tags": []
   },
   "outputs": [
    {
     "name": "stdout",
     "output_type": "stream",
     "text": [
      "[[3.2840e+01 5.0000e-03 1.3200e+00 2.9000e-01]\n",
      " [3.2606e+01 1.0700e-01 1.3120e+00 2.6000e-01]\n",
      " [3.2379e+01 2.0800e-01 1.3040e+00 0.0000e+00]\n",
      " [6.0099e+01 1.0690e+00 2.2420e+00 0.0000e+00]\n",
      " [7.6614e+01 2.0622e+01 2.8920e+00 0.0000e+00]]\n"
     ]
    }
   ],
   "source": [
    "# Look at the first few points\n",
    "print(bin_points[:5])"
   ]
  },
  {
   "cell_type": "code",
   "execution_count": 22,
   "id": "d6b38a42",
   "metadata": {
    "tags": []
   },
   "outputs": [
    {
     "name": "stdout",
     "output_type": "stream",
     "text": [
      "118040\n"
     ]
    }
   ],
   "source": [
    "print(len(bin_points))"
   ]
  },
  {
   "cell_type": "markdown",
   "id": "7eb448a8",
   "metadata": {},
   "source": [
    "### See what range the reflectivity feature has"
   ]
  },
  {
   "cell_type": "code",
   "execution_count": 23,
   "id": "00f7f044",
   "metadata": {
    "tags": []
   },
   "outputs": [
    {
     "name": "stdout",
     "output_type": "stream",
     "text": [
      "Reflectivity - Min: 0.0, Max: 0.9900000095367432,       Mean: 0.22291944921016693, Std: 0.14031940698623657, Median: 0.25\n"
     ]
    }
   ],
   "source": [
    "# Extract the reflectivity column (the 4th column)\n",
    "reflectivity = bin_points[:, 3]\n",
    "\n",
    "# Get the range of reflectivity\n",
    "reflectivity_min = np.min(reflectivity)\n",
    "reflectivity_max = np.max(reflectivity)\n",
    "reflectivity_mean = np.mean(reflectivity)\n",
    "reflectivity_std = np.std(reflectivity)\n",
    "reflectivity_median = np.median(reflectivity)\n",
    "\n",
    "# Print reflectivity statistics\n",
    "print(f\"Reflectivity - Min: {reflectivity_min}, Max: {reflectivity_max}, \\\n",
    "      Mean: {reflectivity_mean}, Std: {reflectivity_std}, Median: {reflectivity_median}\")"
   ]
  },
  {
   "cell_type": "code",
   "execution_count": 24,
   "id": "5c169169",
   "metadata": {
    "tags": []
   },
   "outputs": [
    {
     "ename": "NameError",
     "evalue": "name 'kit_points' is not defined",
     "output_type": "error",
     "traceback": [
      "\u001b[1;31m---------------------------------------------------------------------------\u001b[0m",
      "\u001b[1;31mNameError\u001b[0m                                 Traceback (most recent call last)",
      "Cell \u001b[1;32mIn[24], line 2\u001b[0m\n\u001b[0;32m      1\u001b[0m \u001b[38;5;66;03m# Extract the reflectivity column (the 4th column)\u001b[39;00m\n\u001b[1;32m----> 2\u001b[0m reflectivity \u001b[38;5;241m=\u001b[39m kit_points[:, \u001b[38;5;241m3\u001b[39m]\n\u001b[0;32m      4\u001b[0m \u001b[38;5;66;03m# Get the range of reflectivity\u001b[39;00m\n\u001b[0;32m      5\u001b[0m reflectivity_min \u001b[38;5;241m=\u001b[39m np\u001b[38;5;241m.\u001b[39mmin(reflectivity)\n",
      "\u001b[1;31mNameError\u001b[0m: name 'kit_points' is not defined"
     ]
    }
   ],
   "source": [
    "# Extract the reflectivity column (the 4th column)\n",
    "reflectivity = kit_points[:, 3]\n",
    "\n",
    "# Get the range of reflectivity\n",
    "reflectivity_min = np.min(reflectivity)\n",
    "reflectivity_max = np.max(reflectivity)\n",
    "\n",
    "print(f\"Reflectivity range: {reflectivity_min} - {reflectivity_max}\")"
   ]
  }
 ],
 "metadata": {
  "kernelspec": {
   "display_name": "Python 3 (ipykernel)",
   "language": "python",
   "name": "python3"
  },
  "language_info": {
   "codemirror_mode": {
    "name": "ipython",
    "version": 3
   },
   "file_extension": ".py",
   "mimetype": "text/x-python",
   "name": "python",
   "nbconvert_exporter": "python",
   "pygments_lexer": "ipython3",
   "version": "3.11.3"
  }
 },
 "nbformat": 4,
 "nbformat_minor": 5
}
